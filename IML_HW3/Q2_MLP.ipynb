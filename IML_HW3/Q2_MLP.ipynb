{
  "cells": [
    {
      "cell_type": "markdown",
      "metadata": {
        "id": "fweio_ipJE_a"
      },
      "source": [
        "\n",
        "<br>\n",
        "<font>\n",
        "<div dir=ltr align=center>\n",
        "<img src=\"https://cdn.freebiesupply.com/logos/large/2x/sharif-logo-png-transparent.png\" width=150 height=150> <br>\n",
        "<font color=0F5298 size=7>\n",
        "Introduction to Machine Learning - 25732  <br>\n",
        "<font color=2565AE size=5>\n",
        "Department of Electrical Enginnering <br>\n",
        "Fall 2024<br>\n",
        "<font color=3C99D size=5>\n",
        "Dr. Mohammad Hossein Yassaee <br>\n",
        "<font color=696880 size=4>\n",
        "Armin Dehghan\n",
        "\n",
        "\n",
        "____"
      ]
    },
    {
      "cell_type": "markdown",
      "metadata": {
        "id": "I85ztkD3JE_c"
      },
      "source": [
        "### Information:\n",
        "\n",
        "1.   Full Name: Adel Movahedian\n",
        "2.   Student Number: 400102074\n",
        "\n",
        "---\n",
        "\n",
        "*I. You are just allowded to change those parts that start with \"TO DO\". Please do not change other parts.*\n",
        "\n",
        "*II. It is highly recommended to read each codeline carefully and try to understand what it exactly does.*\n",
        "\n",
        "*III. Do not copy codes completely from internet sources such as Chat-GPT or etc. If you are using any sources, please put its link in the beging of the block.*\n",
        "\n",
        "If you have any question you can contact related TAs:\n",
        " - Homeworks coordinator: @danialayati\n",
        " - This Notebook: @armin_dh\n",
        "\n",
        " Best of luck and have fun!\n",
        "\n",
        "---"
      ]
    },
    {
      "cell_type": "markdown",
      "metadata": {
        "id": "ftMjQFavJE_d"
      },
      "source": [
        "## Libraries"
      ]
    },
    {
      "cell_type": "code",
      "execution_count": 1,
      "metadata": {
        "id": "MTCQdhtWJE_d"
      },
      "outputs": [],
      "source": [
        "from tqdm import tqdm\n",
        "import numpy as np\n",
        "import matplotlib.pyplot as plt\n",
        "\n",
        "import torch\n",
        "import torchvision\n",
        "import torchvision.transforms as transforms"
      ]
    },
    {
      "cell_type": "markdown",
      "metadata": {
        "id": "lJKEwWVuJE_e"
      },
      "source": [
        "## Introduction:\n",
        "\n",
        "In this Notebook, we introduce the fundamental concepts of neural networks, focusing specifically on the architecture and functionality of Multilayer Perceptrons (MLPs). MLPs are a class of feedforward artificial neural networks that consist of multiple layers of nodes, each layer fully connected to the next. These networks are widely used for a variety of machine learning tasks, including classification and regression. The core idea behind MLPs is to learn complex functions by adjusting the weights and biases of the network through a process known as training, typically involving backpropagation and an optimization algorithm like gradient descent.\n",
        "\n",
        "\n",
        "To provide a practical context to these concepts, we will be working with the MNIST dataset, a large collection of handwritten digits commonly used for training and testing in the field of machine learning. The dataset consists of 60,000 training images and 10,000 test images, each being a 28x28 pixel grayscale image of digits ranging from 0 to 9. The simplicity and size of the MNIST dataset make it an excellent choice for exploring and understanding the mechanics of neural networks, particularly in recognizing patterns and classifying images. Throughout this notebook, we will apply MLPs to this dataset, exploring every step of the process from data preparation and exploration to model training and evaluation."
      ]
    },
    {
      "cell_type": "markdown",
      "metadata": {
        "id": "cLlHPrpiJE_e"
      },
      "source": [
        "## Getting the Data\n",
        "\n",
        "\n",
        "The following Python cell performs two primary actions: it loads the MNIST dataset and then splits it into two distinct sets - one for training and one for testing.\n",
        "\n",
        "- `X_train, Y_train`: These variables represent the training set. `X_train` contains the images of handwritten digits, and `Y_train` contains the corresponding labels that indicate the actual digit each image represents (0 through 9).\n",
        "- `X_test, Y_test`: Similarly, these variables represent the test set. `X_test` includes the images reserved for testing the model's performance, while `Y_test` contains the labels for these images.\n",
        "\n",
        "By executing the next cell, you will download the dataset and prepare these variables.\n",
        "\n",
        "**There is no need to change the following cell.**\n"
      ]
    },
    {
      "cell_type": "code",
      "execution_count": 2,
      "metadata": {
        "colab": {
          "base_uri": "https://localhost:8080/"
        },
        "id": "io8T5xGsJE_f",
        "outputId": "58b1a246-71df-4505-ed29-b1d98d1f9dc8"
      },
      "outputs": [
        {
          "output_type": "stream",
          "name": "stdout",
          "text": [
            "Downloading http://yann.lecun.com/exdb/mnist/train-images-idx3-ubyte.gz\n",
            "Failed to download (trying next):\n",
            "HTTP Error 403: Forbidden\n",
            "\n",
            "Downloading https://ossci-datasets.s3.amazonaws.com/mnist/train-images-idx3-ubyte.gz\n",
            "Downloading https://ossci-datasets.s3.amazonaws.com/mnist/train-images-idx3-ubyte.gz to ./data/MNIST/raw/train-images-idx3-ubyte.gz\n"
          ]
        },
        {
          "output_type": "stream",
          "name": "stderr",
          "text": [
            "100%|██████████| 9.91M/9.91M [00:01<00:00, 5.46MB/s]\n"
          ]
        },
        {
          "output_type": "stream",
          "name": "stdout",
          "text": [
            "Extracting ./data/MNIST/raw/train-images-idx3-ubyte.gz to ./data/MNIST/raw\n",
            "\n",
            "Downloading http://yann.lecun.com/exdb/mnist/train-labels-idx1-ubyte.gz\n",
            "Failed to download (trying next):\n",
            "HTTP Error 403: Forbidden\n",
            "\n",
            "Downloading https://ossci-datasets.s3.amazonaws.com/mnist/train-labels-idx1-ubyte.gz\n",
            "Downloading https://ossci-datasets.s3.amazonaws.com/mnist/train-labels-idx1-ubyte.gz to ./data/MNIST/raw/train-labels-idx1-ubyte.gz\n"
          ]
        },
        {
          "output_type": "stream",
          "name": "stderr",
          "text": [
            "100%|██████████| 28.9k/28.9k [00:00<00:00, 159kB/s]\n"
          ]
        },
        {
          "output_type": "stream",
          "name": "stdout",
          "text": [
            "Extracting ./data/MNIST/raw/train-labels-idx1-ubyte.gz to ./data/MNIST/raw\n",
            "\n",
            "Downloading http://yann.lecun.com/exdb/mnist/t10k-images-idx3-ubyte.gz\n",
            "Failed to download (trying next):\n",
            "HTTP Error 403: Forbidden\n",
            "\n",
            "Downloading https://ossci-datasets.s3.amazonaws.com/mnist/t10k-images-idx3-ubyte.gz\n",
            "Downloading https://ossci-datasets.s3.amazonaws.com/mnist/t10k-images-idx3-ubyte.gz to ./data/MNIST/raw/t10k-images-idx3-ubyte.gz\n"
          ]
        },
        {
          "output_type": "stream",
          "name": "stderr",
          "text": [
            "100%|██████████| 1.65M/1.65M [00:01<00:00, 1.52MB/s]\n"
          ]
        },
        {
          "output_type": "stream",
          "name": "stdout",
          "text": [
            "Extracting ./data/MNIST/raw/t10k-images-idx3-ubyte.gz to ./data/MNIST/raw\n",
            "\n",
            "Downloading http://yann.lecun.com/exdb/mnist/t10k-labels-idx1-ubyte.gz\n",
            "Failed to download (trying next):\n",
            "HTTP Error 403: Forbidden\n",
            "\n",
            "Downloading https://ossci-datasets.s3.amazonaws.com/mnist/t10k-labels-idx1-ubyte.gz\n",
            "Downloading https://ossci-datasets.s3.amazonaws.com/mnist/t10k-labels-idx1-ubyte.gz to ./data/MNIST/raw/t10k-labels-idx1-ubyte.gz\n"
          ]
        },
        {
          "output_type": "stream",
          "name": "stderr",
          "text": [
            "100%|██████████| 4.54k/4.54k [00:00<00:00, 7.95MB/s]"
          ]
        },
        {
          "output_type": "stream",
          "name": "stdout",
          "text": [
            "Extracting ./data/MNIST/raw/t10k-labels-idx1-ubyte.gz to ./data/MNIST/raw\n",
            "\n"
          ]
        },
        {
          "output_type": "stream",
          "name": "stderr",
          "text": [
            "\n"
          ]
        }
      ],
      "source": [
        "# Load the MNIST dataset\n",
        "transform = transforms.Compose([\n",
        "    transforms.ToTensor()\n",
        "])\n",
        "\n",
        "trainset = torchvision.datasets.MNIST(root='./data', train=True, download=True)\n",
        "testset = torchvision.datasets.MNIST(root='./data', train=False, download=True)\n",
        "\n",
        "X_train_torch = trainset.data\n",
        "Y_train_torch = trainset.targets\n",
        "\n",
        "X_test_torch = testset.data\n",
        "Y_test_torch = testset.targets\n",
        "\n",
        "\n",
        "\n",
        "# Training Images:\n",
        "X_train = X_train_torch.numpy()\n",
        "# Training Labels:\n",
        "Y_train = Y_train_torch.numpy()\n",
        "\n",
        "# Test Images:\n",
        "X_test = X_test_torch.numpy()\n",
        "# Test Labels:\n",
        "Y_test = Y_test_torch.numpy()"
      ]
    },
    {
      "cell_type": "markdown",
      "metadata": {
        "id": "-w6HAHUJJE_f"
      },
      "source": [
        "## Exploratory Data Analysis: (5 Points)\n",
        "\n",
        "Before diving into model building, it's crucial to perform an exploratory data analysis (EDA) to understand the characteristics and structure of the dataset at hand. EDA involves visualizing the data, identifying patterns, understanding the distribution of variables, and spotting any anomalies or outliers. This step not only helps in making informed decisions about data preprocessing and model design but also provides insights that could be useful for feature engineering.\n",
        "\n",
        "Here are two examples of EDA for the MNIST dataset, which consists of handwritten digits:\n",
        "\n",
        "1. **Visualizing Sample Images**:\n",
        "   - Display a few sample images from the dataset to get a sense of what the handwritten digits look like. This can help in understanding the variety of handwriting styles and the clarity of images.\n",
        "\n",
        "</br>\n",
        "\n",
        "2. **Checking the Distribution of Classes**:\n",
        "   - Plot the frequency of each digit (0-9) in the dataset to check if the dataset is balanced. This is crucial as an imbalanced dataset may need special treatment during training, such as class weighting or resampling techniques."
      ]
    },
    {
      "cell_type": "code",
      "execution_count": 3,
      "metadata": {
        "colab": {
          "base_uri": "https://localhost:8080/",
          "height": 1000
        },
        "id": "Kq5fu9klJE_f",
        "outputId": "e15877bf-0320-4045-8b85-f8c3e12eddc2"
      },
      "outputs": [
        {
          "output_type": "display_data",
          "data": {
            "text/plain": [
              "<Figure size 1000x500 with 10 Axes>"
            ],
            "image/png": "[encoded data removed]"
          },
          "metadata": {}
        },
        {
          "output_type": "display_data",
          "data": {
            "text/plain": [
              "<Figure size 800x600 with 1 Axes>"
            ],
            "image/png": "[encoded data removed]"
          },
          "metadata": {}
        }
      ],
      "source": [
        "# Exploratory Data Analysis\n",
        "\n",
        "# 1. Visualizing Sample Images\n",
        "plt.figure(figsize=(10, 5))\n",
        "for i in range(10):  # Display 10 sample images\n",
        "    plt.subplot(2, 5, i + 1)\n",
        "    plt.imshow(X_train[i], cmap='gray')\n",
        "    plt.title(f\"Label: {Y_train[i]}\")\n",
        "    plt.axis('off')\n",
        "plt.tight_layout()\n",
        "plt.suptitle(\"Sample Images from MNIST Dataset\", fontsize=16)\n",
        "plt.show()\n",
        "\n",
        "# 2. Checking the Distribution of Classes\n",
        "unique, counts = np.unique(Y_train, return_counts=True)\n",
        "plt.figure(figsize=(8, 6))\n",
        "plt.bar(unique, counts, color='skyblue', edgecolor='black')\n",
        "plt.xlabel('Digits (Labels)', fontsize=14)\n",
        "plt.ylabel('Frequency', fontsize=14)\n",
        "plt.title('Distribution of Classes in MNIST Dataset', fontsize=16)\n",
        "plt.xticks(unique, fontsize=12)\n",
        "plt.yticks(fontsize=12)\n",
        "plt.grid(axis='y', linestyle='--', alpha=0.7)\n",
        "plt.show()\n"
      ]
    },
    {
      "cell_type": "markdown",
      "metadata": {
        "id": "4nw3jgceJE_f"
      },
      "source": [
        "## Data Split: (5 Points)\n",
        "\n",
        "To evaluate the performance of our MLP model effectively, we divide the dataset into three distinct sets: training, validation, and test sets. The training set is used to train the model, where the model learns to make predictions by adjusting its parameters. The validation set is used to fine-tune the hyperparameters and make informed decisions about the model architecture without overfitting to the training data. Finally, the test set is utilized to assess the model's performance on unseen data, providing an unbiased evaluation of its ability to generalize.\n",
        "\n",
        "In the next cell, you should take the initial training set `(X_train, Y_train)` and further split it into validation `(X_val, Y_val)` and revised training sets `(X_train, Y_train)` using a 1:5 ratio. This process ensures that we have a separate dataset to validate the model's performance during the training phase, helping us to avoid overfitting and ensuring that our model generalizes well to new, unseen data."
      ]
    },
    {
      "cell_type": "code",
      "execution_count": 4,
      "metadata": {
        "id": "V6b0yS2cJE_f"
      },
      "outputs": [],
      "source": [
        "# Train, Validation, Test split\n",
        "# TODO\n",
        "split_idx = len(X_train) // 6\n",
        "X_val = X_train[:split_idx]\n",
        "Y_val = Y_train[:split_idx]\n",
        "X_train, Y_train = X_train[split_idx:], Y_train[split_idx:]"
      ]
    },
    {
      "cell_type": "markdown",
      "metadata": {
        "id": "3cdmdVgcJE_f"
      },
      "source": [
        "## Preparation of the Data:\n",
        "\n",
        "Data preparation is a critical step in the machine learning pipeline. This process includes cleaning the data, handling missing values, normalizing or standardizing the data, and reshaping it into a format suitable for the neural network. Proper data preparation ensures that the model learns effectively and achieves high performance.\n",
        "\n",
        "In the next cell, we will focus on preparing the MNIST dataset for our MLP model. Given that the MNIST images are grayscale with pixel values ranging from 0 to 255, we will start by normalizing these values to a range of 0 to 1. This normalization helps in speeding up the convergence of the neural network by providing a consistent scale of input values. Additionally, we will reshape the images from their original 2D shape (28x28 pixels) into a flat 1D vector of 784 elements. This step is necessary because our MLP model expects input vectors of a fixed size.\n",
        "\n",
        "**There is no need to change the following cell.**\n"
      ]
    },
    {
      "cell_type": "code",
      "execution_count": 5,
      "metadata": {
        "id": "ZNuF3RukJE_f"
      },
      "outputs": [],
      "source": [
        "# Normalize the images\n",
        "X_train = X_train / 255\n",
        "X_val = X_val / 255\n",
        "X_test = X_test / 255\n",
        "\n",
        "# Flatten the images\n",
        "X_train = X_train.reshape(X_train.shape[0], -1)\n",
        "X_val = X_val.reshape(X_val.shape[0], -1)\n",
        "X_test = X_test.reshape(X_test.shape[0], -1)"
      ]
    },
    {
      "cell_type": "markdown",
      "metadata": {
        "id": "cV3bKGO_JE_f"
      },
      "source": [
        "## Preparation of Model Parameters:\n",
        "\n",
        "Initializing the parameters of an MLP, including weights and biases, is an important step that can significantly affect the model's learning process. Proper initialization can help in preventing issues related to vanishing or exploding gradients, thereby ensuring a stable and efficient training process.\n",
        "\n",
        "In the next cell, we define the architecture of our neural network and initialize its weights and biases. Our network consists of an input layer, three hidden layers, and an output layer, structured as follows:\n",
        "\n",
        "- `n_inp`: Represents the number of neurons in the input layer, determined by the number of features in `X_train`.\n",
        "- `n_hid1`, `n_hid2`, `n_hid3`: Denote the number of neurons in the first, second, and third hidden layers, respectively, set to 256, 128, and 64 for a progressively narrowing architecture.\n",
        "- `n_out`: The number of neurons in the output layer, set to 10, corresponding to the number of possible classifications (for example, digits 0-9 in the MNIST dataset).\n",
        "\n",
        "For each layer, we initialize the weights and biases as follows:\n",
        "- `W1`, `W2`, `W3`, `W4`: Weight matrices for the first, second, third, and output layers, initialized with small random values drawn from a normal distribution, scaled by 0.01 to keep the values small.\n",
        "- `B1`, `B2`, `B3`, `B4`: Bias vectors for each layer, also initialized with small random values, similarly scaled.\n",
        "\n",
        "A random seed (`manual_seed(42)`) is set for reproducibility, ensuring that the random numbers generated are the same each time the code is run. This aids in debugging and comparing model performances across different runs.\n",
        "\n",
        "**There is no need to change the following cell.**"
      ]
    },
    {
      "cell_type": "code",
      "execution_count": 6,
      "metadata": {
        "id": "tNruh4NaJE_g"
      },
      "outputs": [],
      "source": [
        "# Defining the Sizes of the Layers\n",
        "n_inp = X_train.shape[1]\n",
        "n_hid1 = 256\n",
        "n_hid2 = 128\n",
        "n_hid3 = 64\n",
        "n_out = 10\n",
        "\n",
        "# Seed for Reproducibility\n",
        "g = torch.Generator().manual_seed(42)\n",
        "\n",
        "# Weights and Biases of the First Layer:\n",
        "W1 = torch.randn(n_inp, n_hid1, generator=g, requires_grad=True) * 0.01\n",
        "B1 = torch.randn(1, n_hid1, generator=g, requires_grad=True) * 0.01\n",
        "\n",
        "# Weights and Biases of the Second Layer:\n",
        "W2 = torch.randn(n_hid1, n_hid2, generator=g, requires_grad=True) * 0.01\n",
        "B2 = torch.randn(1, n_hid2, generator=g, requires_grad=True) * 0.01\n",
        "\n",
        "# Weights and Biases of the Third Layer:\n",
        "W3 = torch.randn(n_hid2, n_hid3, generator=g, requires_grad=True) * 0.01\n",
        "B3 = torch.randn(1, n_hid3, generator=g, requires_grad=True) * 0.01\n",
        "\n",
        "# Weights and Biases of the Fourth Layer:\n",
        "W4 = torch.randn(n_hid3, n_out, generator=g, requires_grad=True) * 0.01\n",
        "B4 = torch.randn(1, n_out, generator=g, requires_grad=True) * 0.01"
      ]
    },
    {
      "cell_type": "markdown",
      "metadata": {
        "id": "qiYeYRCcJE_g"
      },
      "source": [
        "## Forward Pass:\n",
        "\n",
        "The forward pass refers to the computation process where the input data is passed through the network layer by layer to produce the output. At each layer, the input is transformed using a linear transformation (weighted sum followed by the addition of a bias term) and then typically passed through a non-linear activation function. The output of the final layer is considered the prediction of the network. This step is crucial for both training and evaluation of the model.\n",
        "\n",
        "In the next cell, we will illustrate the forward pass using our MLP model designed for the MNIST dataset. We will walk through the process step by step, starting with the input layer, moving through the hidden layers, and finally to the output layer. For each layer, we will apply the linear transformation, followed by an activation function for hidden layers. The final layer will use the softmax function to produce a probability distribution over the 10 possible digit classes.\n",
        "\n",
        "\n",
        "Here's a step-by-step breakdown:\n",
        "\n",
        "- `batch_size = 32`: This specifies the number of training examples to process simultaneously, which affects the efficiency of training and the generalization capability of the model.\n",
        "\n",
        "**Layer 1:**\n",
        "- `PreActivation1`: Result of the linear transformation applied to the input, computed as `sample_inp @ W1 + B1`, resulting in dimensions `[batch_size, n_hid1]`.\n",
        "- `Hidden1`: Output after applying the sigmoid activation function to `PreActivation1`, maintaining dimensions `[batch_size, n_hid1]`.\n",
        "\n",
        "**Layer 2:**\n",
        "- `PreActivation2`: Linear transformation for the second layer, using `Hidden1` as input, resulting in dimensions `[batch_size, n_hid2]`.\n",
        "- `Hidden2`: Output after applying the ReLU activation function to `PreActivation2`, with dimensions `[batch_size, n_hid2]`.\n",
        "\n",
        "**Layer 3:**\n",
        "- `PreActivation3`: Linear transformation for the third layer, with dimensions `[batch_size, n_hid3]`.\n",
        "- `Hidden3`: Output after applying the tanh activation function to `PreActivation3`, maintaining dimensions `[batch_size, n_hid3]`.\n",
        "\n",
        "**Layer 4 (Output Layer):**\n",
        "- `Logits`: Result of the final linear transformation applied to `Hidden3`, with dimensions `[batch_size, n_out]`, where `n_out` is the number of output classes.\n",
        "- `Probs`: Probabilities for each class, obtained by applying the softmax function to `Logits`, with dimensions `[batch_size, n_out]`. The softmax ensures these probabilities sum to 1 for each sample.\n",
        "\n",
        "**Loss Computation:**\n",
        "- `LogProbs`: Logarithm of `Probs`, necessary for computing cross-entropy loss, maintaining dimensions `[batch_size, n_out]`.\n",
        "- `Loss`: The cross-entropy loss for the batch, calculated by taking the negative log likelihood of the correct class probabilities (indexed by `sample_out`) and averaging, resulting in a single scalar value. This metric quantifies the model's prediction accuracy, guiding parameter adjustments during training.\n",
        "\n",
        "**There is no need to change the following cell.**\n",
        "\n"
      ]
    },
    {
      "cell_type": "code",
      "execution_count": 7,
      "metadata": {
        "id": "yHsd0qQhJE_g"
      },
      "outputs": [],
      "source": [
        "batch_size = 32\n",
        "sample_inp = torch.Tensor(X_train[:batch_size])\n",
        "sample_out = torch.Tensor(Y_train[:batch_size]).int()\n",
        "\n",
        "# Forward pass\n",
        "\n",
        "# Layer 1\n",
        "# Applying Linear transformation\n",
        "PreActivation1 = sample_inp @ W1 + B1\n",
        "# Applying Sigmoid activation function\n",
        "Hidden1 = torch.sigmoid(PreActivation1)\n",
        "\n",
        "# Layer 2\n",
        "# Applying Linear transformation\n",
        "PreActivation2 = Hidden1 @ W2 + B2\n",
        "# Applying ReLU activation function\n",
        "Hidden2 = torch.relu(PreActivation2)\n",
        "\n",
        "# Layer 3\n",
        "# Applying Linear transformation\n",
        "PreActivation3 = Hidden2 @ W3 + B3\n",
        "# Applying Tanh activation function\n",
        "Hidden3 = torch.tanh(PreActivation3)\n",
        "\n",
        "\n",
        "# Layer 4\n",
        "# Applying Linear transformation\n",
        "Logits = Hidden3 @ W4 + B4\n",
        "# Applying Softmax activation function\n",
        "Exp4 = torch.exp(Logits)\n",
        "Sum4 = torch.sum(Exp4, dim=1).view(-1, 1)\n",
        "SumInverse4 = 1 / Sum4\n",
        "Probs = Exp4 * SumInverse4\n",
        "\n",
        "# Loss computation (Cross-entropy loss)\n",
        "LogProbs = Probs.log()\n",
        "Loss = -LogProbs[range(batch_size), sample_out].mean()"
      ]
    },
    {
      "cell_type": "markdown",
      "metadata": {
        "id": "4fpKkwS4JE_g"
      },
      "source": [
        "## Backward Pass and Gradient Computation:\n",
        "\n",
        "Following the forward pass, the next critical phase in training a neural network is the backward pass, which involves computing the gradients of the loss function with respect to each parameter in the model. This process, often facilitated by automatic differentiation libraries like PyTorch's `autograd`, allows us to understand how each parameter needs to be adjusted to minimize the loss.\n",
        "\n",
        "In the next cell, we will compute the gradients of our model using `autograd` and save all the values as numpy arrays.\n",
        "\n",
        "\n",
        "\n",
        "\n",
        "Here's a breakdown of the variables in the code:\n",
        "\n",
        "- **`parameters`:** A list containing all the trainable parameters of the network, including the weights (`W1`, `W2`, `W3`, `W4`) and biases (`B1`, `B2`, `B3`, `B4`) of each layer.\n",
        "\n",
        "- **`middle_values`:** A list of intermediate values computed during the forward pass. These include pre-activation values (`PreActivation1`, `PreActivation2`, `PreActivation3`), hidden layer outputs (`Hidden1`, `Hidden2`, `Hidden3`), and other intermediate computations (`Logits`, `Exp4`, `Sum4`, `SumInverse4`, `Probs`, `LogProbs`) crucial for the loss calculation.\n",
        "\n",
        "- **Weights (`W1`, `W2`, `W3`, `W4`):** These matrices represent the wights of different layers of our model saved as NumPy arrays.\n",
        "\n",
        "- **Biases (`B1`, `B2`, `B3`, `B4`):** These matrices represent the biases of different layers of our model saved as NumPy arrays.\n",
        "\n",
        "- **Weight Gradients (`W1_grad`, `W2_grad`, `W3_grad`, `W4_grad`):** After the backward pass, `W1_grad` holds the gradients of the loss function with respect to `W1`, and similarly for the other weight matrices. All these matrices are saved as NumPy arrays.\n",
        "\n",
        "- **Bias Gradients (`B1_grad`, `B2_grad`, `B3_grad`, `B4_grad`):** Similar to weight gradients, these vectors contain the gradients of the loss with respect to the biases. `B1_grad` is associated with the biases of the first hidden layer, `B2_grad` with the second, and so on. All these vectors are saved as NumPy arrays.\n",
        "\n",
        "**There is no need to change the following cell.**\n"
      ]
    },
    {
      "cell_type": "code",
      "execution_count": 8,
      "metadata": {
        "id": "z1EXicPbJE_g"
      },
      "outputs": [],
      "source": [
        "parameters = [W1, B1, W2, B2, W3, B3, W4, B4]\n",
        "\n",
        "middle_values = [PreActivation1, Hidden1,\n",
        "                 PreActivation2, Hidden2,\n",
        "                 PreActivation3, Hidden3,\n",
        "                 Logits, Exp4, Sum4, SumInverse4, Probs,\n",
        "                 LogProbs]\n",
        "\n",
        "# Backward pass (autograd)\n",
        "for p in parameters:\n",
        "    p.grad = None\n",
        "    p.retain_grad()\n",
        "for m in middle_values:\n",
        "    m.retain_grad()\n",
        "Loss.backward()\n",
        "\n",
        "Loss = np.array(Loss.detach())\n",
        "\n",
        "LogProbs_grad = np.array(LogProbs.grad)\n",
        "LogProbs = np.array(LogProbs.detach())\n",
        "\n",
        "Probs_grad = np.array(Probs.grad)\n",
        "Probs = np.array(Probs.detach())\n",
        "\n",
        "SumInverse4_grad = np.array(SumInverse4.grad)\n",
        "SumInverse4 = np.array(SumInverse4.detach())\n",
        "\n",
        "Sum4_grad = np.array(Sum4.grad)\n",
        "Sum4 = np.array(Sum4.detach())\n",
        "\n",
        "Exp4_grad = np.array(Exp4.grad)\n",
        "Exp4 = np.array(Exp4.detach())\n",
        "\n",
        "Logits_grad = np.array(Logits.grad)\n",
        "Logits = np.array(Logits.detach())\n",
        "\n",
        "B4_grad = np.array(B4.grad)\n",
        "B4 = np.array(B4.detach())\n",
        "\n",
        "W4_grad = np.array(W4.grad)\n",
        "W4 = np.array(W4.detach())\n",
        "\n",
        "Hidden3_grad = np.array(Hidden3.grad)\n",
        "Hidden3 = np.array(Hidden3.detach())\n",
        "\n",
        "PreActivation3_grad = np.array(PreActivation3.grad)\n",
        "PreActivation3 = np.array(PreActivation3.detach())\n",
        "\n",
        "B3_grad = np.array(B3.grad)\n",
        "B3 = np.array(B3.detach())\n",
        "\n",
        "W3_grad = np.array(W3.grad)\n",
        "W3 = np.array(W3.detach())\n",
        "\n",
        "Hidden2_grad = np.array(Hidden2.grad)\n",
        "Hidden2 = np.array(Hidden2.detach())\n",
        "\n",
        "PreActivation2_grad = np.array(PreActivation2.grad)\n",
        "PreActivation2 = np.array(PreActivation2.detach())\n",
        "\n",
        "B2_grad = np.array(B2.grad)\n",
        "B2 = np.array(B2.detach())\n",
        "\n",
        "W2_grad = np.array(W2.grad)\n",
        "W2 = np.array(W2.detach())\n",
        "\n",
        "Hidden1_grad = np.array(Hidden1.grad)\n",
        "Hidden1 = np.array(Hidden1.detach())\n",
        "\n",
        "PreActivation1_grad = np.array(PreActivation1.grad)\n",
        "PreActivation1 = np.array(PreActivation1.detach())\n",
        "\n",
        "B1_grad = np.array(B1.grad)\n",
        "B1 = np.array(B1.detach())\n",
        "\n",
        "W1_grad = np.array(W1.grad)\n",
        "W1 = np.array(W1.detach())\n",
        "\n",
        "sample_inp = np.array(sample_inp)\n",
        "sample_out = np.array(sample_out)"
      ]
    },
    {
      "cell_type": "markdown",
      "metadata": {
        "id": "TaIhBXFoJE_g"
      },
      "source": [
        "## Manual Gradient Calculation by Chain Rule: (50 Points)\n",
        "\n",
        "The chain rule is a fundamental principle in calculus that facilitates the computation of complex derivatives by breaking them down into simpler parts. In the context of neural networks, the chain rule enables the efficient calculation of gradients of the loss function with respect to any parameter in the network, regardless of its position. This process is crucial for understanding how changes in parameters affect the overall loss, guiding the optimization process towards lower loss values.\n",
        "\n",
        "In the next cells, we will start a hands-on exploration of this concept by manually calculating the gradients for selected parts of our model. This exercise will not only deepen your understanding of backpropagation  but also reinforce the mathematical intuition behind the learning process.\n",
        "\n",
        "We will proceed as follows:\n",
        "\n",
        "1. **Identify Key Operations:** We will start by pinpointing the key operations in our model that contribute to the final prediction. This includes linear transformations, activation functions, and the final loss computation.\n",
        "   \n",
        "2. **Compute Local Gradients:** For each operation, we will compute the local gradient, which represents the rate of change of the operation's output with respect to its input.\n",
        "\n",
        "3. **Apply the Chain Rule:** Using the chain rule, we will then piece together these local gradients to compute the gradient of the loss function with respect to each parameter in our model. This involves multiplying the local gradients along the paths from the output back to each parameter.\n",
        "\n",
        "4. **Verify Your Calculations:** Finally, we will compare our manually computed gradients with those obtained using automatic differentiation (e.g., PyTorch's `autograd`), ensuring the correctness of our computations. For example `dLogProbs` that you manualy calculate should be equal to the `LogProbs_grad` that we calculated before using PyTorch's autograd and we will verify that by `check()` function.\n",
        "\n",
        "\n",
        "**HINT:** As you start doing manual gradient calculation, keep in mind that the gradient of any parameter or intermediate variable should retain the same dimensions as the original array.\n",
        "\n",
        "Additionally, all calculations in this exercise **should be performed using NumPy** and its functions.\n",
        "\n",
        "**Please complete the #TODO parts of the following cells**\n",
        "\n"
      ]
    },
    {
      "cell_type": "code",
      "execution_count": 9,
      "metadata": {
        "id": "7o8xc8ifJE_g"
      },
      "outputs": [],
      "source": [
        "# Function to compare manually computed gradients with PyTorch (autograd) gradients\n",
        "def check(s, manual_grad, autograd_grad):\n",
        "  corrcetness = np.allclose(manual_grad, autograd_grad)\n",
        "  print(f'{s:15s} | Gradient Correctness: {str(corrcetness):5s}')"
      ]
    },
    {
      "cell_type": "code",
      "execution_count": 19,
      "metadata": {
        "colab": {
          "base_uri": "https://localhost:8080/"
        },
        "id": "a_4m4Xz6JE_g",
        "outputId": "f8b05f51-28ab-4f7b-9913-b9a7b0270433"
      },
      "outputs": [
        {
          "output_type": "stream",
          "name": "stdout",
          "text": [
            "LogProbs        | Gradient Correctness: True \n"
          ]
        }
      ],
      "source": [
        "# Backward pass (manual)\n",
        "# Loss\n",
        "# TODO\n",
        "batch_size = sample_out.shape[0]\n",
        "dLogProbs = np.zeros_like(LogProbs)  # Initialize gradient matrix\n",
        "dLogProbs[range(batch_size), sample_out] = -1 / batch_size\n",
        "\n",
        "# Verify the correctness of the gradients that you calculated\n",
        "check('LogProbs', dLogProbs, LogProbs_grad)"
      ]
    },
    {
      "cell_type": "code",
      "execution_count": 36,
      "metadata": {
        "colab": {
          "base_uri": "https://localhost:8080/"
        },
        "id": "ZgVJDqP_JE_h",
        "outputId": "f3cf92d8-7d65-4c70-cf89-35fa56d442d9"
      },
      "outputs": [
        {
          "output_type": "stream",
          "name": "stdout",
          "text": [
            "Probs           | Gradient Correctness: True \n",
            "SumInverse4     | Gradient Correctness: True \n",
            "Sum4            | Gradient Correctness: True \n",
            "Exp4            | Gradient Correctness: True \n",
            "Logits          | Gradient Correctness: True \n",
            "B4              | Gradient Correctness: True \n",
            "W4              | Gradient Correctness: True \n",
            "Hidden3         | Gradient Correctness: True \n"
          ]
        }
      ],
      "source": [
        "# Backward pass (manual)\n",
        "# Layer 4\n",
        "\n",
        "# TODO\n",
        "dProbs = dProbs = dLogProbs * (1 / Probs)\n",
        "\n",
        "# TODO\n",
        "dSumInverse4 = np.sum(dProbs * Exp4, axis=1, keepdims=True)\n",
        "\n",
        "# TODO\n",
        "dSum4 = -dSumInverse4 / (Sum4 ** 2)\n",
        "\n",
        "# TODO\n",
        "dExp4 = dProbs * SumInverse4 + dSum4\n",
        "\n",
        "# TODO\n",
        "dLogits = dExp4 * Exp4\n",
        "\n",
        "# TODO\n",
        "dB4 = np.sum(dLogits, axis=0, keepdims=True)\n",
        "\n",
        "# TODO\n",
        "dW4 = Hidden3.T @ dLogits\n",
        "\n",
        "# TODO\n",
        "dHidden3 = dLogits @ W4.T\n",
        "\n",
        "\n",
        "# Verify the correctness of the gradients that you calculated\n",
        "check('Probs', dProbs, Probs_grad)\n",
        "check('SumInverse4', dSumInverse4, SumInverse4_grad)\n",
        "check('Sum4', dSum4, Sum4_grad)\n",
        "check('Exp4', dExp4, Exp4_grad)\n",
        "check('Logits', dLogits, Logits_grad)\n",
        "check('B4', dB4, B4_grad)\n",
        "check('W4', dW4, W4_grad)\n",
        "check('Hidden3', dHidden3, Hidden3_grad)"
      ]
    },
    {
      "cell_type": "code",
      "execution_count": 37,
      "metadata": {
        "colab": {
          "base_uri": "https://localhost:8080/"
        },
        "id": "Nr8mUSG4JE_h",
        "outputId": "a0cee8e4-1893-4914-91ae-7f3fe4bbc535"
      },
      "outputs": [
        {
          "output_type": "stream",
          "name": "stdout",
          "text": [
            "PreActivation3  | Gradient Correctness: True \n",
            "B3              | Gradient Correctness: True \n",
            "W3              | Gradient Correctness: True \n",
            "Hidden2         | Gradient Correctness: True \n"
          ]
        }
      ],
      "source": [
        "# Backward pass (manual)\n",
        "# Layer 3\n",
        "\n",
        "# TODO\n",
        "dPreActivation3 = dHidden3 * (1 - Hidden3 ** 2)\n",
        "\n",
        "# TODO\n",
        "dB3 = np.sum(dPreActivation3, axis=0, keepdims=True)\n",
        "\n",
        "# TODO\n",
        "dW3 = Hidden2.T @ dPreActivation3\n",
        "\n",
        "# TODO\n",
        "dHidden2 = dPreActivation3 @ W3.T\n",
        "\n",
        "\n",
        "# Verify the correctness of the gradients that you calculated\n",
        "check('PreActivation3', dPreActivation3, PreActivation3_grad)\n",
        "check('B3', dB3, B3_grad)\n",
        "check('W3', dW3, W3_grad)\n",
        "check('Hidden2', dHidden2, Hidden2_grad)"
      ]
    },
    {
      "cell_type": "code",
      "execution_count": 38,
      "metadata": {
        "colab": {
          "base_uri": "https://localhost:8080/"
        },
        "id": "UQ2k0NA8JE_h",
        "outputId": "5270ecb5-8af6-4b8a-f852-77cafbc4a602"
      },
      "outputs": [
        {
          "output_type": "stream",
          "name": "stdout",
          "text": [
            "PreActivation2  | Gradient Correctness: True \n",
            "B2              | Gradient Correctness: True \n",
            "W2              | Gradient Correctness: True \n",
            "Hidden1         | Gradient Correctness: True \n"
          ]
        }
      ],
      "source": [
        "# Backward pass (manual)\n",
        "# Layer 2\n",
        "\n",
        "# TODO\n",
        "dPreActivation2 = dHidden2 * (Hidden2 > 0)\n",
        "\n",
        "# TODO\n",
        "dB2 = np.sum(dPreActivation2, axis=0, keepdims=True)\n",
        "\n",
        "# TODO\n",
        "dW2 = Hidden1.T @ dPreActivation2\n",
        "\n",
        "# TODO\n",
        "dHidden1 = dPreActivation2 @ W2.T\n",
        "\n",
        "\n",
        "# Verify the correctness of the gradients that you calculated\n",
        "check('PreActivation2', dPreActivation2, PreActivation2_grad)\n",
        "check('B2', dB2, B2_grad)\n",
        "check('W2', dW2, W2_grad)\n",
        "check('Hidden1', dHidden1, Hidden1_grad)"
      ]
    },
    {
      "cell_type": "code",
      "execution_count": 39,
      "metadata": {
        "colab": {
          "base_uri": "https://localhost:8080/"
        },
        "id": "D_fz13_SJE_h",
        "outputId": "eca802dc-4e8d-4519-a899-adcff0a335dd"
      },
      "outputs": [
        {
          "output_type": "stream",
          "name": "stdout",
          "text": [
            "PreActivation1  | Gradient Correctness: True \n",
            "B1              | Gradient Correctness: True \n",
            "W1              | Gradient Correctness: True \n"
          ]
        }
      ],
      "source": [
        "# Backward pass (manual)\n",
        "# Layer 1\n",
        "\n",
        "# TODO\n",
        "dPreActivation1 = dHidden1 * (Hidden1 * (1 - Hidden1))\n",
        "\n",
        "# TODO\n",
        "dB1 = np.sum(dPreActivation1, axis=0, keepdims=True)\n",
        "\n",
        "# TODO\n",
        "dW1 = sample_inp.T @ dPreActivation1\n",
        "\n",
        "\n",
        "# Verify the correctness of the gradients that you calculated\n",
        "check('PreActivation1', dPreActivation1, PreActivation1_grad)\n",
        "check('B1', dB1, B1_grad)\n",
        "check('W1', dW1, W1_grad)"
      ]
    },
    {
      "cell_type": "markdown",
      "metadata": {
        "id": "1h5of0FIJE_h"
      },
      "source": [
        "## Updating Model Parameters: (5 Points)\n",
        "\n",
        "With the gradients computed during the backpropagation step, the next critical phase in training our neural network involves updating the model's parameters. This step is essential for minimizing the loss function and improving the model's predictions over time.\n",
        "\n",
        "For our model, this translates to the following updates:\n",
        "- For the first layer's weights (`W1`) and biases (`B1`), we subtract the product of the learning rate and their respective gradients (`dW1`, `dB1`).\n",
        "- Similarly, this pattern is repeated for the subsequent layers' weights (`W2`, `W3`, `W4`) and biases (`B2`, `B3`, `B4`), ensuring that each parameter is nudged in the direction that minimizes the loss.\n",
        "\n",
        "**Please complete the #TODO parts of the following cell**"
      ]
    },
    {
      "cell_type": "code",
      "execution_count": 40,
      "metadata": {
        "id": "OZvmLHiAJE_h"
      },
      "outputs": [],
      "source": [
        "# Update parameters\n",
        "learning_rate = 0.01\n",
        "\n",
        "# Update weights and biases for Layer 1\n",
        "W1 -= learning_rate * dW1\n",
        "B1 -= learning_rate * dB1\n",
        "\n",
        "# Update weights and biases for Layer 2\n",
        "W2 -= learning_rate * dW2\n",
        "B2 -= learning_rate * dB2\n",
        "\n",
        "# Update weights and biases for Layer 3\n",
        "W3 -= learning_rate * dW3\n",
        "B3 -= learning_rate * dB3\n",
        "\n",
        "# Update weights and biases for Layer 4\n",
        "W4 -= learning_rate * dW4\n",
        "B4 -= learning_rate * dB4\n"
      ]
    },
    {
      "cell_type": "markdown",
      "metadata": {
        "id": "eGsk3HqTJE_i"
      },
      "source": [
        "## Activation Functions Using Numpy Instead of PyTorch: (10 Points)\n",
        "\n",
        "In the next phase of this notebook, we will try to implement a complete multilayer perceptron (MLP) model using only the NumPy library. For this purpose, you should implement the following activation functions using only NumPy functions:\n",
        "\n",
        "- **Sigmoid:**\n",
        "  The Sigmoid function is defined as \\( \\sigma(x) = \\frac{1}{1 + e^{-x}} \\). It maps any input value to a value between 0 and 1.\n",
        "\n",
        "- **ReLU:**\n",
        "  The Rectified Linear Unit (ReLU) function is defined as \\( \\text{ReLU}(x) = \\max(0, x) \\). It introduces non-linearity with less computational complexity and has become one of the most popular activation functions in deep learning.\n",
        "\n",
        "- **Tanh:**\n",
        "  The Hyperbolic Tangent (Tanh) function is defined as \\( \\tanh(x) = \\frac{e^{x} - e^{-x}}{e^{x} + e^{-x}} \\). It maps any input value to a range between -1 and 1.\n",
        "\n",
        "**Please complete the #TODO parts of the following cells**\n"
      ]
    },
    {
      "cell_type": "code",
      "execution_count": 86,
      "metadata": {
        "id": "kLk19WnWJE_i"
      },
      "outputs": [],
      "source": [
        "# Activation functions\n",
        "\n",
        "def sigmoid(x):\n",
        "    \"\"\"\n",
        "    Compute the sigmoid function for the input array.\n",
        "\n",
        "    Parameters:\n",
        "    - x (np.array): The input array for which to compute the sigmoid function.\n",
        "\n",
        "    Returns:\n",
        "    - np.array: The output array where the sigmoid function has been applied element-wise.\n",
        "    \"\"\"\n",
        "    return 1 / (1 + np.exp(-x))\n",
        "\n",
        "def relu(x):\n",
        "    \"\"\"\n",
        "    Compute the Rectified Linear Unit (ReLU) for the input array.\n",
        "\n",
        "    Parameters:\n",
        "    - x (np.array): The input array for which to compute the ReLU function.\n",
        "\n",
        "    Returns:\n",
        "    - np.array: The output array where the ReLU function has been applied element-wise, keeping only positive values and setting negative values to zero.\n",
        "    \"\"\"\n",
        "    return np.maximum(0, x)\n",
        "\n",
        "def tanh(x):\n",
        "    \"\"\"\n",
        "    Compute the hyperbolic tangent (tanh) for the input array.\n",
        "\n",
        "    Parameters:\n",
        "    - x (np.array): The input array for which to compute the tanh function.\n",
        "\n",
        "    Returns:\n",
        "    - np.array: The output array where the tanh function has been applied element-wise.\n",
        "    \"\"\"\n",
        "    return np.tanh(x)"
      ]
    },
    {
      "cell_type": "markdown",
      "metadata": {
        "id": "EYIVBmpiJE_i"
      },
      "source": [
        "## Writing the MLP Class: (10 Points)\n",
        "\n",
        "In the next cell, you are tasked with completing the MLP class, which will serve as the foundation for training an MLP model on the MNIST dataset. The class should have the essential components of an MLP, including:\n",
        "\n",
        "- **Initialization of Parameters:** Define the architecture (number of layers, size of each layer) and initialize the weights and biases accordingly. This sets up the structure of your neural network and prepares it for the forward and backward passes. You can use NumPy random functions for this purpose.\n",
        "\n",
        "- **Forward Pass Method:** Implement the forward propagation algorithm to compute the output of the network for a given input. This involves applying a series of linear transformations and non-linear activations to the input data to obtain the final output. You are free to choose the size of the layers and also the activation functions\n",
        "\n",
        "- **Loss Computation:** Calculate the loss to evaluate how well the model is performing. The loss function measures the discrepancy between the predicted outputs and the actual targets, guiding the training process. Use Cross-entropy loss for this example.\n",
        "\n",
        "- **Backward Pass Method:** Compute the gradients of the loss with respect to the parameters **manually**.\n",
        "\n",
        "- **Step Method:**\n",
        "  The step method is responsible for updating the model's parameters (weights and biases) using the gradients computed after the backward pass. Typically, the step method will iterate over all parameters and apply the update:\n",
        "  \\[ \\text{parameter} = \\text{parameter} - (\\text{learning_rate} \\times \\text{gradient}) \\]\n",
        "\n",
        "\n",
        "\n",
        "Feel free to design the architecture of your model, select appropriate hyperparameters, and choose activation functions based on your specific requirements and objectives! This flexibility allows you to tailor the model to optimally address your unique dataset and performance goals.\n",
        "\n",
        "\n",
        "All calculations in this exercise **should be performed using NumPy** and its functions.\n",
        "\n",
        "**Please complete the #TODO parts of the following cell**\n",
        "\n",
        "\n",
        "\n"
      ]
    },
    {
      "cell_type": "code",
      "execution_count": 87,
      "metadata": {
        "id": "LIqJpdSGJE_i"
      },
      "outputs": [],
      "source": [
        "class MLP:\n",
        "    \"\"\"\n",
        "    A class representing a Multilayer Perceptron (MLP).\n",
        "    \"\"\"\n",
        "\n",
        "    def __init__(self, n_inp, n_hid1, n_hid2, n_out):\n",
        "        \"\"\"\n",
        "        Initializes a new MLP instance with specified layer sizes.\n",
        "\n",
        "        Parameters:\n",
        "            n_inp (int): Number of input neurons.\n",
        "            n_hid1 (int): Number of neurons in the first hidden layer.\n",
        "            n_hid2 (int): Number of neurons in the second hidden layer.\n",
        "            n_out (int): Number of output neurons (typically the number of classes).\n",
        "        \"\"\"\n",
        "        self.W1 = np.random.randn(n_inp, n_hid1) * 0.01  # Weight matrix from input to first hidden layer\n",
        "        self.B1 = np.zeros((1, n_hid1))  # Bias for the first hidden layer\n",
        "\n",
        "        self.W2 = np.random.randn(n_hid1, n_hid2) * 0.01  # Weight matrix from hidden layer 1 to 2\n",
        "        self.B2 = np.zeros((1, n_hid2))  # Bias for the second hidden layer\n",
        "\n",
        "        self.W3 = np.random.randn(n_hid2, n_out) * 0.01  # Weight matrix from hidden layer 2 to output layer\n",
        "        self.B3 = np.zeros((1, n_out))\n",
        "\n",
        "    def forward(self, X):\n",
        "        \"\"\"\n",
        "        Perform the forward pass through the network and return the probability of each class.\n",
        "\n",
        "        Parameters:\n",
        "            X (np.ndarray): Input data matrix, where each row represents a sample.\n",
        "\n",
        "        Returns:\n",
        "            np.ndarray: Probabilities of each class for each input sample.\n",
        "        \"\"\"\n",
        "        self.Z1 = np.dot(X, self.W1) + self.B1  # Linear transformation for first hidden layer\n",
        "        self.A1 = self.sigmoid(self.Z1)  # Activation for first hidden layer\n",
        "\n",
        "        self.Z2 = np.dot(self.A1, self.W2) + self.B2  # Linear transformation for second hidden layer\n",
        "        self.A2 = self.sigmoid(self.Z2)  # Activation for second hidden layer\n",
        "\n",
        "        self.Z3 = np.dot(self.A2, self.W3) + self.B3  # Linear transformation for output layer\n",
        "        self.A3 = self.sigmoid(self.Z3)  # Activation for output layer (or softmax for classification)\n",
        "\n",
        "        return self.A3\n",
        "\n",
        "    def Loss(self, Y):\n",
        "        \"\"\"\n",
        "        Compute the cross-entropy loss for the output of the network compared to the true labels.\n",
        "\n",
        "        Parameters:\n",
        "            Y (np.ndarray): True labels for the input data, where each entry is an index of the true class.\n",
        "\n",
        "        Returns:\n",
        "            float: The mean cross-entropy loss across all input samples.\n",
        "        \"\"\"\n",
        "        m = Y.shape[0]  # number of samples\n",
        "        log_probs = -np.log(self.A3[range(m), Y])\n",
        "        loss = np.mean(log_probs)\n",
        "        return loss\n",
        "\n",
        "    def backward(self, X, Y):\n",
        "        \"\"\"\n",
        "        Perform the backward pass using the input and labels to compute gradients for learning.\n",
        "\n",
        "        Parameters:\n",
        "            X (np.ndarray): Input data matrix, where each row represents a sample.\n",
        "            Y (np.ndarray): True labels for the input data, where each entry is an index of the true class.\n",
        "\n",
        "        Returns:\n",
        "            None: This method updates class attributes corresponding to gradients.\n",
        "        \"\"\"\n",
        "        m = X.shape[0]\n",
        "\n",
        "        # Gradient of the softmax and cross-entropy loss\n",
        "        dZ3 = self.A3\n",
        "        dZ3[range(m), Y] -= 1\n",
        "        dZ3 /= m\n",
        "\n",
        "        # Gradients for W3 and B3\n",
        "        self.dW3 = np.dot(self.A2.T, dZ3)\n",
        "        self.dB3 = np.sum(dZ3, axis=0, keepdims=True)\n",
        "\n",
        "        # Backpropagate to layer 2\n",
        "        dA2 = np.dot(dZ3, self.W3.T)\n",
        "        dZ2 = dA2 * self.relu_deriv(self.Z2)\n",
        "\n",
        "        # Gradients for W2 and B2\n",
        "        self.dW2 = np.dot(self.A1.T, dZ2)\n",
        "        self.dB2 = np.sum(dZ2, axis=0, keepdims=True)\n",
        "\n",
        "        # Backpropagate to layer 1\n",
        "        dA1 = np.dot(dZ2, self.W2.T)\n",
        "        dZ1 = dA1 * self.sigmoid_deriv(self.Z1)\n",
        "\n",
        "        # Gradients for W1 and B1\n",
        "        self.dW1 = np.dot(X.T, dZ1)\n",
        "        self.dB1 = np.sum(dZ1, axis=0, keepdims=True)\n",
        "\n",
        "    def step(self, learning_rate):\n",
        "        \"\"\"\n",
        "        Update the model's weights and biases based on the gradients computed during backpropagation.\n",
        "\n",
        "        Parameters:\n",
        "            learning_rate (float): The learning rate to use for the update step.\n",
        "\n",
        "        Returns:\n",
        "            None: This method updates the weights and biases of the MLP.\n",
        "        \"\"\"\n",
        "        self.W1 -= learning_rate * self.dW1\n",
        "        self.B1 -= learning_rate * self.dB1\n",
        "\n",
        "        self.W2 -= learning_rate * self.dW2\n",
        "        self.B2 -= learning_rate * self.dB2\n",
        "\n",
        "        self.W3 -= learning_rate * self.dW3\n",
        "        self.B3 -= learning_rate * self.dB3\n",
        "\n",
        "    def sigmoid(self, x):\n",
        "        return 1 / (1 + np.exp(-x))\n",
        "\n",
        "    def sigmoid_deriv(self, x):\n",
        "        sig = self.sigmoid(x)\n",
        "        return sig * (1 - sig)\n",
        "\n",
        "    def relu(self, x):\n",
        "        return np.maximum(0, x)\n",
        "\n",
        "    def relu_deriv(self, x):\n",
        "        return (x > 0).astype(float)\n",
        "\n",
        "    def softmax(self, x):\n",
        "        exp_x = np.exp(x - np.max(x, axis=1, keepdims=True))  # for numerical stability\n",
        "        return exp_x / np.sum(exp_x, axis=1, keepdims=True)\n"
      ]
    },
    {
      "cell_type": "markdown",
      "metadata": {
        "id": "kfzftQ5NJE_i"
      },
      "source": [
        "## Setting the Hyperparameters and Model Configuration:\n",
        "\n",
        "Hyperparameters, such as the learning rate, number of epochs, and batch size, play a crucial role in the training process and significantly influence the model's performance and efficiency. Unlike model parameters that are learned during training, hyperparameters must be predefined and can have a profound impact on the learning dynamics and final outcomes.\n",
        "\n",
        "- **Learning Rate:** Determines the step size at each iteration while moving toward a minimum of the loss function. An appropriately chosen learning rate ensures that the model converges efficiently to a good solution.\n",
        "\n",
        "- **Number of Epochs:** The total number of times the training dataset is passed through the network. Properly setting this value ensures that the model is adequately trained without falling into the pitfalls of underfitting or overfitting.\n",
        "\n",
        "- **Batch Size:** Dictates the number of training examples used in one iteration. It balances the trade-off between the regularization effect and the stability of the gradient, also impacting memory usage and computational speed.\n",
        "\n",
        "- **Model Size and Parameters:** Refers to the architecture of the MLP, including the number of layers and the number of neurons in each layer. The model's size directly affects its capacity to learn, with more parameters allowing for more complex functions to be modeled. However, larger models also require more data to train effectively without overfitting and entail higher computational costs. You could define this part in the previous cell as you wrote tha MLP class as well.\n",
        "\n",
        "In the next cell, you will define these hyperparameters and configure the model's architecture.\n",
        "\n",
        "**Please complete the #TODO parts of the following cell**\n"
      ]
    },
    {
      "cell_type": "code",
      "execution_count": 88,
      "metadata": {
        "id": "qmLr6LUVJE_i"
      },
      "outputs": [],
      "source": [
        "# Setting the hyperparameters\n",
        "\n",
        "# Define the number of neurons in each layer (architecture of the MLP)\n",
        "n_inp = 784\n",
        "n_hid1 = 128\n",
        "n_hid2 = 64\n",
        "n_out = 10\n",
        "\n",
        "# Training parameters\n",
        "batch_size = 32\n",
        "learning_rate = 0.01\n",
        "n_epochs = 50\n"
      ]
    },
    {
      "cell_type": "markdown",
      "metadata": {
        "id": "YO29ufJbJE_i"
      },
      "source": [
        "## Creating Batches for Different Splits of Data (5 Points)\n",
        "\n",
        "In the next cell, you should focus on batching the different splits of the MNIST dataset: the training, validation, and test sets.\n",
        "\n",
        "Implementing this batching process will prepare your data for the training loop, where each batch will be fed into the model sequentially to perform forward and backward passes and update the model parameters.\n",
        "\n",
        "**Please complete the #TODO parts of the following cell**\n"
      ]
    },
    {
      "cell_type": "code",
      "execution_count": 89,
      "metadata": {
        "id": "gMFX7aFgJE_i"
      },
      "outputs": [],
      "source": [
        "# Training batches\n",
        "training_batches = []\n",
        "for i in range(0, len(X_train), batch_size):\n",
        "    X_batch = X_train[i:i+batch_size]\n",
        "    Y_batch = Y_train[i:i+batch_size]\n",
        "    training_batches.append((X_batch, Y_batch))\n",
        "\n",
        "# Validation batches\n",
        "validation_batches = []\n",
        "for i in range(0, len(X_val), batch_size):\n",
        "    X_batch = X_val[i:i+batch_size]\n",
        "    Y_batch = Y_val[i:i+batch_size]\n",
        "    validation_batches.append((X_batch, Y_batch))\n",
        "\n",
        "# Test batches\n",
        "test_batches = []\n",
        "for i in range(0, len(X_test), batch_size):\n",
        "    X_batch = X_test[i:i+batch_size]\n",
        "    Y_batch = Y_test[i:i+batch_size]\n",
        "    test_batches.append((X_batch, Y_batch))\n"
      ]
    },
    {
      "cell_type": "markdown",
      "metadata": {
        "id": "EAZJp9TBJE_j"
      },
      "source": [
        "## Writing the Training Loop (15 Points)\n",
        "\n",
        "Training a neural network involves iteratively adjusting its parameters to minimize a loss function. This process is encapsulated within a training loop, where the model learns from the training data over multiple epochs. Each epoch represents one complete pass through the entire dataset.\n",
        "\n",
        "In the next cell, you should do the following:\n",
        "\n",
        "1. **Initialize the MLP Model:** Before you can start training, you need to instantiate your MLP class.\n",
        "\n",
        "2. **Implement the Training Loop:** The training loop should include the following key steps for each epoch:\n",
        "   - **Forward Pass:** For each batch of data, compute the model's predictions by passing the data through the model from input to output.\n",
        "   - **Compute Loss:** Evaluate how well the model's predictions match the actual labels by calculating the loss, using a suitable loss function for classification (e.g., cross-entropy loss).\n",
        "   - **Backward Pass:** Compute the gradients of the loss function with respect to the model's parameters.\n",
        "   - **Update Parameters:** Adjust the model's parameters in the opposite direction of the gradients to minimize the loss.\n",
        "   - **Validation:** Periodically, after a set number of epochs, evaluate the model's performance on the validation set to monitor its learning progress and adjust training parameters if necessary.\n",
        "\n",
        "Remember to track the loss during training to monitor the model's performance over time. This information is valuable for debugging and optimizing the training process.\n",
        "\n",
        "**Please complete the #TODO parts of the following cell**\n"
      ]
    },
    {
      "cell_type": "code",
      "execution_count": 90,
      "metadata": {
        "colab": {
          "base_uri": "https://localhost:8080/"
        },
        "id": "9BLNcjMVJE_j",
        "outputId": "65518f2d-2a5b-465f-b54f-ac6143339336"
      },
      "outputs": [
        {
          "output_type": "stream",
          "name": "stdout",
          "text": [
            "Epoch 1/50     |      Training Loss: 2.2644     |      Validation Loss: 2.3008\n",
            "Epoch 2/50     |      Training Loss: 2.3027     |      Validation Loss: 2.3008\n",
            "Epoch 3/50     |      Training Loss: 2.3026     |      Validation Loss: 2.3008\n",
            "Epoch 4/50     |      Training Loss: 2.3025     |      Validation Loss: 2.3007\n",
            "Epoch 5/50     |      Training Loss: 2.3024     |      Validation Loss: 2.3005\n",
            "Epoch 6/50     |      Training Loss: 2.3021     |      Validation Loss: 2.3001\n",
            "Epoch 7/50     |      Training Loss: 2.3014     |      Validation Loss: 2.2989\n",
            "Epoch 8/50     |      Training Loss: 2.2989     |      Validation Loss: 2.2942\n",
            "Epoch 9/50     |      Training Loss: 2.2884     |      Validation Loss: 2.2730\n",
            "Epoch 10/50     |      Training Loss: 2.2401     |      Validation Loss: 2.1711\n",
            "Epoch 11/50     |      Training Loss: 2.0179     |      Validation Loss: 1.8503\n",
            "Epoch 12/50     |      Training Loss: 1.7666     |      Validation Loss: 1.6535\n",
            "Epoch 13/50     |      Training Loss: 1.6098     |      Validation Loss: 1.5075\n",
            "Epoch 14/50     |      Training Loss: 1.4856     |      Validation Loss: 1.3994\n",
            "Epoch 15/50     |      Training Loss: 1.3842     |      Validation Loss: 1.3133\n",
            "Epoch 16/50     |      Training Loss: 1.3033     |      Validation Loss: 1.2309\n",
            "Epoch 17/50     |      Training Loss: 1.2435     |      Validation Loss: 1.1865\n",
            "Epoch 18/50     |      Training Loss: 1.1913     |      Validation Loss: 1.1379\n",
            "Epoch 19/50     |      Training Loss: 1.1431     |      Validation Loss: 1.1013\n",
            "Epoch 20/50     |      Training Loss: 1.1003     |      Validation Loss: 1.0720\n",
            "Epoch 21/50     |      Training Loss: 1.0643     |      Validation Loss: 1.0351\n",
            "Epoch 22/50     |      Training Loss: 1.0264     |      Validation Loss: 0.9947\n",
            "Epoch 23/50     |      Training Loss: 0.9830     |      Validation Loss: 0.9508\n",
            "Epoch 24/50     |      Training Loss: 0.9266     |      Validation Loss: 0.8857\n",
            "Epoch 25/50     |      Training Loss: 0.8640     |      Validation Loss: 0.8291\n",
            "Epoch 26/50     |      Training Loss: 0.8086     |      Validation Loss: 0.7780\n",
            "Epoch 27/50     |      Training Loss: 0.7606     |      Validation Loss: 0.7381\n",
            "Epoch 28/50     |      Training Loss: 0.7208     |      Validation Loss: 0.7069\n",
            "Epoch 29/50     |      Training Loss: 0.6883     |      Validation Loss: 0.6811\n",
            "Epoch 30/50     |      Training Loss: 0.6622     |      Validation Loss: 0.6587\n",
            "Epoch 31/50     |      Training Loss: 0.6411     |      Validation Loss: 0.6408\n",
            "Epoch 32/50     |      Training Loss: 0.6226     |      Validation Loss: 0.6268\n",
            "Epoch 33/50     |      Training Loss: 0.6066     |      Validation Loss: 0.6127\n",
            "Epoch 34/50     |      Training Loss: 0.5922     |      Validation Loss: 0.5998\n",
            "Epoch 35/50     |      Training Loss: 0.5787     |      Validation Loss: 0.5882\n",
            "Epoch 36/50     |      Training Loss: 0.5654     |      Validation Loss: 0.5780\n",
            "Epoch 37/50     |      Training Loss: 0.5519     |      Validation Loss: 0.5670\n",
            "Epoch 38/50     |      Training Loss: 0.5360     |      Validation Loss: 0.5530\n",
            "Epoch 39/50     |      Training Loss: 0.5161     |      Validation Loss: 0.5362\n",
            "Epoch 40/50     |      Training Loss: 0.5006     |      Validation Loss: 0.5236\n",
            "Epoch 41/50     |      Training Loss: 0.4875     |      Validation Loss: 0.5115\n",
            "Epoch 42/50     |      Training Loss: 0.4749     |      Validation Loss: 0.5004\n",
            "Epoch 43/50     |      Training Loss: 0.4637     |      Validation Loss: 0.4906\n",
            "Epoch 44/50     |      Training Loss: 0.4538     |      Validation Loss: 0.4835\n",
            "Epoch 45/50     |      Training Loss: 0.4450     |      Validation Loss: 0.4766\n",
            "Epoch 46/50     |      Training Loss: 0.4367     |      Validation Loss: 0.4700\n",
            "Epoch 47/50     |      Training Loss: 0.4293     |      Validation Loss: 0.4641\n",
            "Epoch 48/50     |      Training Loss: 0.4226     |      Validation Loss: 0.4582\n",
            "Epoch 49/50     |      Training Loss: 0.4161     |      Validation Loss: 0.4518\n",
            "Epoch 50/50     |      Training Loss: 0.4098     |      Validation Loss: 0.4461\n"
          ]
        }
      ],
      "source": [
        "# Initialize the model\n",
        "# TODO\n",
        "mlp = MLP(n_inp=n_inp, n_hid1=n_hid1, n_hid2=n_hid2, n_out=n_out)\n",
        "\n",
        "\n",
        "# Training loop\n",
        "# TODO\n",
        "train_losses = []\n",
        "val_losses = []\n",
        "for epoch in range(n_epochs):\n",
        "    train_loss = 0.0\n",
        "    val_loss = 0.0\n",
        "    for X, Y in training_batches:\n",
        "        # Forward pass\n",
        "        Y_hat = mlp.forward(X)\n",
        "        # Calculate the loss\n",
        "        loss = mlp.Loss(Y)\n",
        "        train_loss += loss\n",
        "        # Backward pass\n",
        "        mlp.backward(X, Y)\n",
        "        # Update the weights and biases\n",
        "        mlp.step(learning_rate)\n",
        "    train_loss /= len(training_batches)\n",
        "    train_losses.append(train_loss)\n",
        "    for X, Y in validation_batches:\n",
        "        # Forward pass\n",
        "        Y_hat = mlp.forward(X)\n",
        "        # Calculate the loss\n",
        "        loss = mlp.Loss(Y)\n",
        "        val_loss += loss\n",
        "    val_loss /= len(validation_batches)\n",
        "    val_losses.append(val_loss)\n",
        "    print(f\"Epoch {epoch + 1}/{n_epochs}     |      Training Loss: {train_loss:.4f}     |      Validation Loss: {val_loss:.4f}\")"
      ]
    },
    {
      "cell_type": "markdown",
      "metadata": {
        "id": "fq1f8JSoJE_j"
      },
      "source": [
        "## Plotting the Validation and Training Loss (5 Points)\n",
        "\n",
        "Visualizing the training and validation loss over time is a crucial aspect of the model development process. It provides valuable insights into how well the model is learning, helps identify issues such as overfitting or underfitting, and can guide decisions on model adjustments or hyperparameter tuning.\n",
        "\n",
        "In the next cell, you will create a plot to visualize the training and validation loss over time.\n",
        "\n",
        "**Please complete the #TODO parts of the following cell**"
      ]
    },
    {
      "cell_type": "code",
      "execution_count": 91,
      "metadata": {
        "colab": {
          "base_uri": "https://localhost:8080/",
          "height": 564
        },
        "id": "W-GyVuFeJE_m",
        "outputId": "fc6e971e-6e9e-406e-af45-a67cb3c31b3b"
      },
      "outputs": [
        {
          "output_type": "display_data",
          "data": {
            "text/plain": [
              "<Figure size 1000x600 with 1 Axes>"
            ],
            "image/png": "[encoded data removed]"
          },
          "metadata": {}
        }
      ],
      "source": [
        "# plot losses\n",
        "plt.figure(figsize=(10, 6))\n",
        "plt.plot(range(1, n_epochs + 1), train_losses, label='Training Loss', color='blue')\n",
        "plt.plot(range(1, n_epochs + 1), val_losses, label='Validation Loss', color='red')\n",
        "plt.title('Training and Validation Loss over Epochs')\n",
        "plt.xlabel('Epochs')\n",
        "plt.ylabel('Loss')\n",
        "plt.legend()\n",
        "plt.grid(True)\n",
        "plt.show()\n"
      ]
    },
    {
      "cell_type": "markdown",
      "metadata": {
        "id": "SCeZe6_DJE_n"
      },
      "source": [
        "## Visualizing Some Examples (5 Points)\n",
        "\n",
        "In the next cell, visualize a subset of the test images along with their true and predicted labels.\n",
        "\n",
        "**Please complete the #TODO parts of the following cell**"
      ]
    },
    {
      "cell_type": "code",
      "execution_count": 93,
      "metadata": {
        "colab": {
          "base_uri": "https://localhost:8080/",
          "height": 543
        },
        "id": "jBaw0l1YJE_n",
        "outputId": "19b6aed7-9b7c-47ef-ba2c-c65a231db48f"
      },
      "outputs": [
        {
          "output_type": "display_data",
          "data": {
            "text/plain": [
              "<Figure size 1500x1000 with 10 Axes>"
            ],
            "image/png": "[encoded data removed]"
          },
          "metadata": {}
        }
      ],
      "source": [
        "# Visualize test images\n",
        "num_images = 10\n",
        "test_images = X_test[:num_images]\n",
        "true_labels = Y_test[:num_images]\n",
        "predicted_labels = []\n",
        "for i in range(num_images):\n",
        "    X = test_images[i].reshape(1, -1)\n",
        "    Y_hat = mlp.forward(X)\n",
        "    predicted_labels.append(np.argmax(Y_hat, axis=1))\n",
        "plt.figure(figsize=(15, 10))\n",
        "for i in range(num_images):\n",
        "    plt.subplot(2, 5, i + 1)\n",
        "    plt.imshow(test_images[i].reshape(28, 28), cmap='gray')\n",
        "    plt.title(f\"True: {true_labels[i]} | Pred: {predicted_labels[i]}\")\n",
        "    plt.axis('off')\n",
        "\n",
        "plt.tight_layout()\n",
        "plt.show()\n",
        "\n"
      ]
    },
    {
      "cell_type": "markdown",
      "metadata": {
        "id": "0cbTsCCgJE_n"
      },
      "source": [
        "## Calculating Model Metrics for Different Splits (15 Points)\n",
        "\n",
        "Evaluating the performance of your MLP model across different data splits (training, validation, and test sets) is critical for understanding its generalization ability and overall effectiveness. This evaluation helps ensure that the model performs well not only on the data it was trained on but also on new, unseen data.\n",
        "\n",
        "In the next cell, you should calculate model metrics(precision, recall, F1, ...) for each split and report them.\n",
        "\n",
        "You can use sklearn library for this part, if you want to.\n",
        "\n",
        "**Please complete the #TODO parts of the following cells**"
      ]
    },
    {
      "cell_type": "code",
      "execution_count": 94,
      "metadata": {
        "colab": {
          "base_uri": "https://localhost:8080/"
        },
        "id": "DHWvJ-6TJE_n",
        "outputId": "521ad16b-5249-414e-8a1b-9efb417e1581"
      },
      "outputs": [
        {
          "output_type": "stream",
          "name": "stdout",
          "text": [
            "Training Data Metrics:\n",
            "              precision    recall  f1-score   support\n",
            "\n",
            "           0       0.97      0.96      0.97      4922\n",
            "           1       0.96      0.97      0.96      5615\n",
            "           2       0.93      0.87      0.90      4967\n",
            "           3       0.93      0.84      0.88      5099\n",
            "           4       0.93      0.87      0.90      4862\n",
            "           5       0.87      0.78      0.83      4558\n",
            "           6       0.92      0.93      0.92      4904\n",
            "           7       0.93      0.94      0.93      5195\n",
            "           8       0.79      0.88      0.83      4907\n",
            "           9       0.80      0.93      0.86      4971\n",
            "\n",
            "    accuracy                           0.90     50000\n",
            "   macro avg       0.90      0.90      0.90     50000\n",
            "weighted avg       0.90      0.90      0.90     50000\n",
            "\n"
          ]
        }
      ],
      "source": [
        "from sklearn.metrics import classification_report\n",
        "\n",
        "# Training data metrics\n",
        "train_preds = []\n",
        "for X, _ in training_batches:\n",
        "    Y_hat = mlp.forward(X)\n",
        "    train_preds.append(np.argmax(Y_hat, axis=1))\n",
        "train_preds = np.concatenate(train_preds)\n",
        "print(\"Training Data Metrics:\")\n",
        "print(classification_report(Y_train, train_preds))\n"
      ]
    },
    {
      "cell_type": "code",
      "execution_count": 95,
      "metadata": {
        "colab": {
          "base_uri": "https://localhost:8080/"
        },
        "id": "njKneAPsJE_n",
        "outputId": "083ee7ab-d07b-41f3-8bea-a6a23f6cddf7"
      },
      "outputs": [
        {
          "output_type": "stream",
          "name": "stdout",
          "text": [
            "Validation Data Metrics:\n",
            "              precision    recall  f1-score   support\n",
            "\n",
            "           0       0.96      0.96      0.96      1001\n",
            "           1       0.95      0.96      0.95      1127\n",
            "           2       0.93      0.86      0.89       991\n",
            "           3       0.90      0.84      0.87      1032\n",
            "           4       0.92      0.88      0.90       980\n",
            "           5       0.86      0.79      0.82       863\n",
            "           6       0.91      0.93      0.92      1014\n",
            "           7       0.93      0.94      0.94      1070\n",
            "           8       0.81      0.87      0.84       944\n",
            "           9       0.81      0.93      0.86       978\n",
            "\n",
            "    accuracy                           0.90     10000\n",
            "   macro avg       0.90      0.90      0.90     10000\n",
            "weighted avg       0.90      0.90      0.90     10000\n",
            "\n"
          ]
        }
      ],
      "source": [
        "# Validation data metrics\n",
        "val_preds = []\n",
        "for X, _ in validation_batches:\n",
        "    Y_hat = mlp.forward(X)\n",
        "    val_preds.append(np.argmax(Y_hat, axis=1))\n",
        "val_preds = np.concatenate(val_preds)\n",
        "print(\"Validation Data Metrics:\")\n",
        "print(classification_report(Y_val, val_preds))\n"
      ]
    },
    {
      "cell_type": "code",
      "execution_count": 96,
      "metadata": {
        "colab": {
          "base_uri": "https://localhost:8080/"
        },
        "id": "g9h0j85rJE_n",
        "outputId": "4c09697c-411a-4b93-fe08-72ed025b574f"
      },
      "outputs": [
        {
          "output_type": "stream",
          "name": "stdout",
          "text": [
            "Test Data Metrics:\n",
            "              precision    recall  f1-score   support\n",
            "\n",
            "           0       0.96      0.96      0.96       980\n",
            "           1       0.97      0.97      0.97      1135\n",
            "           2       0.93      0.88      0.91      1032\n",
            "           3       0.92      0.85      0.88      1010\n",
            "           4       0.93      0.88      0.90       982\n",
            "           5       0.86      0.78      0.82       892\n",
            "           6       0.92      0.92      0.92       958\n",
            "           7       0.93      0.92      0.92      1028\n",
            "           8       0.78      0.87      0.82       974\n",
            "           9       0.81      0.93      0.87      1009\n",
            "\n",
            "    accuracy                           0.90     10000\n",
            "   macro avg       0.90      0.90      0.90     10000\n",
            "weighted avg       0.90      0.90      0.90     10000\n",
            "\n"
          ]
        }
      ],
      "source": [
        "# Test data metrics\n",
        "test_preds = []\n",
        "for X, _ in test_batches:\n",
        "    Y_hat = mlp.forward(X)\n",
        "    test_preds.append(np.argmax(Y_hat, axis=1))\n",
        "test_preds = np.concatenate(test_preds)\n",
        "print(\"Test Data Metrics:\")\n",
        "print(classification_report(Y_test, test_preds))\n"
      ]
    },
    {
      "cell_type": "markdown",
      "metadata": {
        "id": "z4GtK0XuJE_o"
      },
      "source": [
        "## Reporting the Findings (5 Points)\n",
        "\n",
        "In the next cell you should do the following:\n",
        "\n",
        "1. **Analyze Results:** Compare the metrics across the different splits. A model that performs exceptionally well on the training set but poorly on the validation/test sets may be overfitting. Conversely, underfitting may be indicated by poor performance across all sets.\n",
        "\n",
        "2. **Report Findings:** Summarize the results in a clear and concise manner."
      ]
    },
    {
      "cell_type": "markdown",
      "metadata": {
        "id": "i2eIkn91JE_o"
      },
      "source": [
        "### Analysis of Results:\n",
        "\n",
        "Looking at the results from the training, validation, and test sets, the model seems to be working well and consistently. <br>what we can see:\n",
        "\n",
        "1. **Training Data**:\n",
        "   - The model has a **high accuracy** of 90% on the training set, with **good precision**, **recall**, and **F1 scores** for most classes.\n",
        "   - These scores are very close to 1.0 for most classes, meaning the model can classify most of them correctly. However, classes like 8 and 9 show slightly lower scores, which means the model finds these classes a bit harder to identify.\n",
        "\n",
        "2. **Validation Data**:\n",
        "   - On the **validation set**, the model again performs at **90% accuracy**. The precision, recall, and F1 scores are very similar to those on the training set.\n",
        "   - This means the model is doing well with new data that it hasn't seen before, showing that it's not just memorizing the training data but is generalizing effectively.\n",
        "\n",
        "3. **Test Data**:\n",
        "   - The model gets the same **90% accuracy** on the **test set**, with results similar to the training and validation sets.\n",
        "   - This shows that the model is able to work well on completely new data, which suggests that it's generalizing well.\n",
        "\n",
        "### Reported Findings:\n",
        "\n",
        "- **Overfitting**: There's no sign of **overfitting**. Overfitting happens when a model performs really well on the training data but poorly on new data. But in this case, the model is getting similar results on the training, validation, and test sets, meaning it can generalize well to new data.\n",
        "\n",
        "- **Underfitting**: There's also no sign of **underfitting**, where the model would perform poorly on all data sets. Here, the model does well, with 90% accuracy across all sets.\n",
        "\n",
        "- **Class Performance**: Some classes (like 8 and 9) show slightly lower precision and recall scores. This means the model might find it harder to recognize these classes compared to others. But overall, the model performs fairly evenly across all classes, with an average F1 score of about **0.90**.\n",
        "\n",
        "### Conclusion:\n",
        "- The model is doing well across all data sets, with no signs of overfitting or underfitting.\n",
        "- It can generalize well from the training data to unseen validation and test data.\n",
        "- There’s room for improvement in recognizing certain classes (like 8 and 9), but overall, the model is performing well."
      ]
    }
  ],
  "metadata": {
    "kernelspec": {
      "display_name": "ai",
      "language": "python",
      "name": "python3"
    },
    "language_info": {
      "codemirror_mode": {
        "name": "ipython",
        "version": 3
      },
      "file_extension": ".py",
      "mimetype": "text/x-python",
      "name": "python",
      "nbconvert_exporter": "python",
      "pygments_lexer": "ipython3",
      "version": "3.11.6"
    },
    "colab": {
      "provenance": []
    }
  },
  "nbformat": 4,
  "nbformat_minor": 0
}