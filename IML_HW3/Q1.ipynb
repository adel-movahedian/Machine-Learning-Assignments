{
  "cells": [
    {
      "cell_type": "markdown",
      "metadata": {
        "id": "-BjwW9EblTZN"
      },
      "source": [
        "\n",
        "\n",
        "<br>\n",
        "<font>\n",
        "<div dir=ltr align=center>\n",
        "<img src=\"https://cdn.freebiesupply.com/logos/large/2x/sharif-logo-png-transparent.png\" width=150 height=150> <br>\n",
        "<font color=0F5298 size=7>\n",
        "Introduction to Machine Learning - 25732  <br>\n",
        "<font color=2565AE size=5>\n",
        "Department of Electrical Enginnering <br>\n",
        "Fall 2024<br>\n",
        "<font color=3C99D size=5>\n",
        "Dr. Mohammad Hossein Yassaee <br>\n",
        "<font color=696880 size=4>\n",
        "Zahra Maleki\n",
        "\n",
        "\n",
        "____\n",
        "\n"
      ]
    },
    {
      "cell_type": "markdown",
      "metadata": {
        "id": "KHjWsLS3lTZQ"
      },
      "source": [
        "\n",
        "### Information:\n",
        "\n",
        "1.   Full Name: Adel Movahedian\n",
        "2.   Student Number: 400102074\n",
        "\n",
        "---\n",
        "\n",
        "*I. You are just allowded to change those parts that start with \"TO DO\". Please do not change other parts.*\n",
        "\n",
        "*II. It is highly recommended to read each codeline carefully and try to understand what it exactly does.*\n",
        "\n",
        "*III. Do not copy codes completely from internet sources such as Chat-GPT or etc. If you are using any sources, please put its link in the beging of the block.*\n",
        "\n",
        "If you have any question you can contact related TAs:\n",
        " - Homeworks coordinator: @danialayati\n",
        " - This Notebook: @Rosebaekfany\n",
        "\n",
        " Best of luck and have fun!\n",
        "\n",
        "---"
      ]
    },
    {
      "cell_type": "markdown",
      "metadata": {
        "id": "L3_8n9IolTZQ"
      },
      "source": [
        "## Introduction"
      ]
    },
    {
      "cell_type": "markdown",
      "metadata": {
        "id": "rADzxfcWlTZQ"
      },
      "source": [
        "## Fitting a function with *gradient descent*\n",
        "We'll be using *numpy* and *pytorch* for array calculations in this notebook.\n",
        "A neural network is just a mathematical function. In the most standard kind of neural network, the function:\n",
        "\n",
        "1. Multiplies each input by a number of values. These values are known as *parameters*\n",
        "1. Adds them up for each group of values\n",
        "1. Replaces the negative numbers with zeros\n",
        "\n",
        "This represents one \"layer\". Then these three steps are repeated, using the outputs of the previous layer as the inputs to the next layer. Initially, the parameters in this function are selected randomly. Therefore a newly created neural network doesn't do anything useful at all -- it's just random!\n",
        "\n",
        "To get the function to \"learn\" to do something useful, we have to change the parameters to make them \"better\" in some way. We do this using *gradient descent*. Let's see how this works..."
      ]
    },
    {
      "cell_type": "code",
      "execution_count": 1,
      "metadata": {
        "id": "fFcGz0EtlTZR"
      },
      "outputs": [],
      "source": [
        "from ipywidgets import interact\n",
        "from fastai.basics import *\n",
        "\n",
        "plt.rc('figure', dpi=90)\n",
        "\n",
        "def plot_function(f, title=None, min=-2.1, max=2.1, color='r', ylim=None):\n",
        "    x = torch.linspace(min,max, 100)[:,None]\n",
        "    if ylim: plt.ylim(ylim)\n",
        "    plt.plot(x, f(x), color)\n",
        "    if title is not None: plt.title(title)"
      ]
    },
    {
      "cell_type": "markdown",
      "metadata": {
        "id": "5BG0F8SElTZR"
      },
      "source": [
        "To learn how gradient descent works, we're going to start by fitting a quadratic, since that's a function most of us are probably more familiar with than a neural network. Here's the quadratic we're going to try to fit:\n",
        "\n",
        "Write a Python function that represents the quadratic equation \\( f(x) = 3x^2 + 2x + 1 \\), and then create a plot of this function labeled with its mathematical representation."
      ]
    },
    {
      "cell_type": "code",
      "execution_count": 3,
      "metadata": {
        "colab": {
          "base_uri": "https://localhost:8080/",
          "height": 413
        },
        "id": "QjXWrF_5lTZS",
        "outputId": "91ca8ecc-74ea-4f7d-c7b3-4422515829bc"
      },
      "outputs": [
        {
          "output_type": "display_data",
          "data": {
            "text/plain": [
              "<Figure size 576x432 with 1 Axes>"
            ],
            "image/png": "[encoded data removed]"
          },
          "metadata": {}
        }
      ],
      "source": [
        "#code here\n",
        "def f(x):\n",
        "  return 3*x**2 + 2*x + 1\n",
        "plot_function(f=f, title='$f(x) = 3x^2 + 2x + 1$')"
      ]
    },
    {
      "cell_type": "markdown",
      "metadata": {
        "id": "48EjTmjglTZS"
      },
      "source": [
        "This quadratic is of the form $ax^2+bx+c$, with parameters $a=3$, $b=2$, $c=1$. To make it easier to try out different quadratics for fitting a model to the data we'll create, Now create a function that calculates the value of a point on any quadratic:"
      ]
    },
    {
      "cell_type": "code",
      "execution_count": 4,
      "metadata": {
        "id": "0FqO7sHKlTZS"
      },
      "outputs": [],
      "source": [
        "#code here\n",
        "def f_param(x, a, b, c):\n",
        "  return a*x**2 + b*x + c"
      ]
    },
    {
      "cell_type": "markdown",
      "metadata": {
        "id": "90eqWaH-lTZS"
      },
      "source": [
        "If we fix some particular values of a, b, and c, then we'll have made a quadratic. To fix values passed to a function in python, we use the `partial` function, like so:"
      ]
    },
    {
      "cell_type": "code",
      "execution_count": 5,
      "metadata": {
        "id": "FoBipoAmlTZS"
      },
      "outputs": [],
      "source": [
        "def mk_quad(a,b,c): #code here\n",
        "  return partial(f_param, a=a, b=b, c=c)"
      ]
    },
    {
      "cell_type": "code",
      "execution_count": 6,
      "metadata": {
        "colab": {
          "base_uri": "https://localhost:8080/",
          "height": 389
        },
        "id": "JOHfFDEclTZT",
        "outputId": "4aba2940-2a6c-42ae-e15a-57fac6de839e"
      },
      "outputs": [
        {
          "output_type": "display_data",
          "data": {
            "text/plain": [
              "<Figure size 576x432 with 1 Axes>"
            ],
            "image/png": "[encoded data removed]"
          },
          "metadata": {}
        }
      ],
      "source": [
        "f2 = mk_quad(3,2,1)\n",
        "plot_function(f2)"
      ]
    },
    {
      "cell_type": "markdown",
      "metadata": {
        "id": "N1q8TGy7lTZT"
      },
      "source": [
        "Now let's simulate making some noisy measurements of our quadratic `f`. We'll then use gradient descent to see if we can recreate the original function from the data.\n",
        "\n",
        "write down a couple of functions to add some random noise to data:"
      ]
    },
    {
      "cell_type": "code",
      "execution_count": 7,
      "metadata": {
        "id": "uBFea901lTZT"
      },
      "outputs": [],
      "source": [
        "def noise(x, scale):\n",
        "   return torch.randn_like(x) * scale\n",
        "def add_noise(x, mult, add):\n",
        "   return x + x * noise(x, mult) + noise(x, add)"
      ]
    },
    {
      "cell_type": "markdown",
      "metadata": {
        "id": "GlBvu9N6lTZT"
      },
      "source": [
        "Let's use the now to create our noisy measurements based on the quadratic above:"
      ]
    },
    {
      "cell_type": "code",
      "execution_count": 8,
      "metadata": {
        "id": "DV5VsVKAlTZT"
      },
      "outputs": [],
      "source": [
        "np.random.seed(42)\n",
        "\n",
        "x = torch.linspace(-2, 2, steps=20)[:,None]\n",
        "y = add_noise(f(x), 0.15, 1.5)"
      ]
    },
    {
      "cell_type": "markdown",
      "metadata": {
        "id": "eRjCMfzVlTZT"
      },
      "source": [
        "show the first few values of each of `x` and `y`:"
      ]
    },
    {
      "cell_type": "code",
      "execution_count": 9,
      "metadata": {
        "colab": {
          "base_uri": "https://localhost:8080/"
        },
        "id": "5oJCAzNNlTZU",
        "outputId": "451f28ae-a831-41a1-a10e-cf4731fd09bc"
      },
      "outputs": [
        {
          "output_type": "stream",
          "name": "stdout",
          "text": [
            "x values:\n",
            " tensor([[-2.0000],\n",
            "        [-1.7895],\n",
            "        [-1.5789],\n",
            "        [-1.3684],\n",
            "        [-1.1579],\n",
            "        [-0.9474],\n",
            "        [-0.7368],\n",
            "        [-0.5263],\n",
            "        [-0.3158],\n",
            "        [-0.1053]])\n",
            "y values:\n",
            " tensor([[6.1032],\n",
            "        [4.3788],\n",
            "        [3.8091],\n",
            "        [0.3541],\n",
            "        [2.4132],\n",
            "        [3.4822],\n",
            "        [0.3172],\n",
            "        [1.8611],\n",
            "        [2.4452],\n",
            "        [0.4820]])\n"
          ]
        }
      ],
      "source": [
        "#code here\n",
        "print(\"x values:\\n\", x[:10])\n",
        "print(\"y values:\\n\", y[:10])"
      ]
    },
    {
      "cell_type": "markdown",
      "metadata": {
        "id": "K2QR-A-ElTZU"
      },
      "source": [
        "As you can see, they're *tensors*. A tensor is just like an `array` in numpy. Furthermore, PyTorch, which most researchers use for deep learning, is modeled closely on numpy.) A tensor can be a single number (a *scalar* or *rank-0 tensor*), a list of numbers (a *vector* or *rank-1 tensor*), a table of numbers (a *matrix* or *rank-2 tensor*), a table of tables of numbers (a *rank-3 tensor*), and so forth.\n",
        "\n",
        "We're not going to learn much about our data by just looking at the raw numbers, so let's draw a picture:"
      ]
    },
    {
      "cell_type": "code",
      "execution_count": 10,
      "metadata": {
        "colab": {
          "base_uri": "https://localhost:8080/",
          "height": 389
        },
        "id": "lozpnL8ClTZU",
        "outputId": "deaa8189-6b6b-4c48-db93-08ab36aa8a11"
      },
      "outputs": [
        {
          "output_type": "display_data",
          "data": {
            "text/plain": [
              "<Figure size 576x432 with 1 Axes>"
            ],
            "image/png": "[encoded data removed]"
          },
          "metadata": {}
        }
      ],
      "source": [
        "plt.scatter(x,y);"
      ]
    },
    {
      "cell_type": "markdown",
      "metadata": {
        "id": "x_KdsgwLlTZU"
      },
      "source": [
        "How do we find values of a, b, and c which fit this data? One approach is to try a few values and see what fits. Here's a function which overlays a quadratic on top of our data, along with some sliders to change a, b, and c, and see how it looks:"
      ]
    },
    {
      "cell_type": "code",
      "execution_count": 38,
      "metadata": {
        "colab": {
          "base_uri": "https://localhost:8080/",
          "height": 485,
          "referenced_widgets": [
            "53195ff9e3744724b795f72257cb839b",
            "630fc8f42b934e0f8391ee74642e2363",
            "7876f58a25a543fcbe02971d857499cc",
            "89567477983d4bfcb3e3b42e7b93838c",
            "5bf843be0e7148189afc4ade6b9f79aa",
            "694a210d03c2421e8ea7977cd5833a8b",
            "81bafb8201e84e49a07fb4aeab0366c5",
            "af1883668f014eb79b0e2fa1b25c4cee",
            "da18ccd02e1d432dbe34505a9a4ff453",
            "0af567fe653b423e9cb10e51f8ca0564",
            "1315b7fb10154b0d976f0adac909f57c",
            "ae2b6530f94f4e509c770e6927dc34b3",
            "1465ad0a6f964fcfb48384a61c2e7ff2"
          ]
        },
        "id": "01mUsqAJlTZU",
        "outputId": "ccaba707-c105-465b-ed59-7b5b5e130053"
      },
      "outputs": [
        {
          "output_type": "display_data",
          "data": {
            "text/plain": [
              "interactive(children=(FloatSlider(value=0.0, description='a', max=4.0, min=-4.0), FloatSlider(value=0.0, descr…"
            ],
            "application/vnd.jupyter.widget-view+json": {
              "version_major": 2,
              "version_minor": 0,
              "model_id": "53195ff9e3744724b795f72257cb839b"
            }
          },
          "metadata": {}
        }
      ],
      "source": [
        "@interact(a=(-4, 4, 0.1), b=(-4, 4, 0.1), c=(-4, 4, 0.1))\n",
        "def plot_quad(a, b, c):\n",
        "    #code here\n",
        "    Myfuncion = mk_quad(a, b, c)\n",
        "    plt.scatter(x, y)\n",
        "    plot_function(f=Myfuncion)\n",
        "    plt.show()"
      ]
    },
    {
      "cell_type": "markdown",
      "metadata": {
        "id": "D9av88PclTZU"
      },
      "source": [
        "Try moving slider `a` a bit to the left. Does that look better or worse? How about if you move it a bit to the right? Find out which direction seems to improve the fit of the quadratic to the data, and move the slider a bit in that direction. Next, do the same for slider `b`: first figure out which direction improves the fit, then move it a bit in that direction. Then do the same for `c`.\n",
        "\n",
        "OK, now go back to slider `a` and repeat the process. Do it again for `b` and `c` as well.\n",
        "\n",
        "Did you notice that by going back and doing the sliders a second time that you were able to improve things a bit further? That's an important insight -- it's only after changing `b` and `c`, for instance, that you realise that `a` actually needs some adjustment based on those new values.\n",
        "\n",
        "One thing that's making this tricky is that we don't really have a great sense of whether our fit is really better or worse. It would be easier if we had a numeric measure of that. On easy metric we could use is *mean absolute error* -- which is the distance from each data point to the curve:"
      ]
    },
    {
      "cell_type": "markdown",
      "metadata": {
        "id": "CffPg3qYlTZU"
      },
      "source": [
        "Answer: As the changes made in previous with each iteration we are getting closer to the best fit and i think the second order equation with :\n",
        "<br>\n",
        " a = 2.3 , b = 2.6 , c = 1.5 <br>\n",
        " will be the best match I found with manual approximation that fits well to our data.\n"
      ]
    },
    {
      "cell_type": "code",
      "execution_count": 13,
      "metadata": {
        "id": "IihFyuKIlTZU"
      },
      "outputs": [],
      "source": [
        "def mae(preds, acts):\n",
        "    return (preds - acts).abs().mean()"
      ]
    },
    {
      "cell_type": "markdown",
      "metadata": {
        "id": "_K27HelXlTZV"
      },
      "source": [
        "We'll update our interactive function to print this at the top for us.\n",
        "\n",
        "Use this to repeat the approach we took before to try to find the best fit, but this time just use the value of the metric to decide which direction to move each slider, and how far to move it.\n",
        "\n",
        "This time around, try doing it in the opposite order: `c`, then `b`, then `a`.\n",
        "\n",
        "You'll probably find that you have to go through the set of sliders a couple of times to get the best fit."
      ]
    },
    {
      "cell_type": "code",
      "execution_count": 18,
      "metadata": {
        "colab": {
          "base_uri": "https://localhost:8080/",
          "height": 504,
          "referenced_widgets": [
            "9ab1dbe71a914c1da181a5333dc56fac",
            "14374c4020ed42fba687dda727604607",
            "6d98d6d52d1548f08e75ba1efd96fd65",
            "daaf9644f1ae4bdc86f84fd2e3f47c51",
            "49b85470bee049edb20c1d2182a9f3e0",
            "87f8ba6f83df4759bb0872b3494d2b62",
            "0064ccf2c83b49f3831c6b31e191e9e3",
            "21473212b8a04acb943b5b3a40bb22f5",
            "962b1be91e424c4cab7fe82928310618",
            "ff584d6214894f41ae8eab4c0701950a",
            "db9caa1bf90649a1accde6c87be58a32",
            "35565eadfce24425bdbbfd4c80b6288d",
            "b1c843f177594abfb80ae869c55f1adf"
          ]
        },
        "id": "qtzGcaO2lTZV",
        "outputId": "319dd499-3e0f-45a9-b960-3eedb5a4fdb1"
      },
      "outputs": [
        {
          "output_type": "display_data",
          "data": {
            "text/plain": [
              "interactive(children=(FloatSlider(value=2.0, description='a', max=4.0), FloatSlider(value=2.0, description='b'…"
            ],
            "application/vnd.jupyter.widget-view+json": {
              "version_major": 2,
              "version_minor": 0,
              "model_id": "9ab1dbe71a914c1da181a5333dc56fac"
            }
          },
          "metadata": {}
        }
      ],
      "source": [
        "@interact(a=(0, 4, 0.1), b=(0, 4, 0.1), c=(0, 4, 0.1))\n",
        "def plot_quad(a, b, c):\n",
        "    f = mk_quad(a,b,c)\n",
        "    plt.scatter(x,y)\n",
        "    pred = f(x)\n",
        "    loss = mae(pred, y)\n",
        "    plot_function(f, ylim=(-3,12), title=f\"MAE: {loss:.2f}\")\n",
        "    plt.show()"
      ]
    },
    {
      "cell_type": "markdown",
      "metadata": {
        "id": "pc-NN0nOlTZV"
      },
      "source": [
        "In a modern neural network we'll often have tens of millions of parameters to fit, or more, and thousands or millions of data points to fit them to. We're not going to be able to do that by moving sliders around! We'll need to automate this process.\n",
        "\n",
        "Thankfully, that turns out to be pretty straightforward. We can use calculus to figure out, for each parameter, whether we should increase or decrease it.\n",
        "\n",
        "Uh oh, calculus! If you haven't touched calculus since school, you might be getting ready to run away at this point. But don't worry, we don't actually need much calculus at all. Just derivatives, which measure the rate of change of a function. We don't even need to calculate them ourselves, because the computer will do it for us!"
      ]
    },
    {
      "cell_type": "markdown",
      "metadata": {
        "id": "dMzEy0c2lTZV"
      },
      "source": [
        "## Automating gradient descent\n",
        "The basic idea is this: if we know the *gradient* of our `mae()` function *with respect to* our parameters, `a`, `b`, and `c`, then that means we know how adjusting (for instance) `a` will change the value of `mae()`. If, say, `a` has a *negative* gradient, then we know that increasing `a` will decrease `mae()`. Then we know that's what we need to do, since we trying to make `mae()` as low as possible.\n",
        "\n",
        "So, we find the gradient of `mae()` for each of our parameters, and then adjust our parameters a bit in the *opposite* direction to the sign of the gradient.\n",
        "\n",
        "To do this, first we need a function that takes all the parameters `a`, `b`, and `c` as a single vector input, and returns the value `mae()` based on those parameters:"
      ]
    },
    {
      "cell_type": "code",
      "execution_count": 19,
      "metadata": {
        "id": "H7LR3GVPlTZV"
      },
      "outputs": [],
      "source": [
        "def quad_mae(params):\n",
        "    a, b, c = params\n",
        "    return mae(f_param(x, a, b, c), y)"
      ]
    },
    {
      "cell_type": "code",
      "execution_count": 20,
      "metadata": {
        "colab": {
          "base_uri": "https://localhost:8080/"
        },
        "id": "D5Z10POolTZV",
        "outputId": "1099454e-3bcf-41aa-9614-5cb27b06f355"
      },
      "outputs": [
        {
          "output_type": "execute_result",
          "data": {
            "text/plain": [
              "tensor(2.3210)"
            ]
          },
          "metadata": {},
          "execution_count": 20
        }
      ],
      "source": [
        "quad_mae([1.1, 1.1, 1.1])"
      ]
    },
    {
      "cell_type": "markdown",
      "metadata": {
        "id": "TbSj2lsDlTZV"
      },
      "source": [
        "Yup, that's the same as the starting `mae()` we had in our plot before.\n",
        "\n",
        "We're first going to do exactly the same thing as we did manually -- pick some arbritrary starting point for our parameters. We'll put them all into a single tensor.\n",
        "\n",
        "To tell PyTorch that we want it to calculate gradients for these parameters.\n",
        "\n",
        "We can now calculate `mae()`. Generally, when doing gradient descent, the thing we're trying to minimise is called the *loss*:"
      ]
    },
    {
      "cell_type": "code",
      "execution_count": 27,
      "metadata": {
        "colab": {
          "base_uri": "https://localhost:8080/"
        },
        "id": "_1pakCOylTZV",
        "outputId": "d378edf0-7485-41a7-a64a-9a8d47655208"
      },
      "outputs": [
        {
          "output_type": "stream",
          "name": "stdout",
          "text": [
            "tensor(2.3210, grad_fn=<MeanBackward0>)\n"
          ]
        }
      ],
      "source": [
        "#code here\n",
        "params = torch.tensor([1.1, 1.1, 1.1], requires_grad=True)\n",
        "loss = quad_mae(params)\n",
        "print(loss)"
      ]
    },
    {
      "cell_type": "markdown",
      "metadata": {
        "id": "0674RoMMlTZV"
      },
      "source": [
        "Get PyTorch to now calculate the gradients.\n",
        "\n",
        "The gradients will be stored for us in an attribute called `grad`.\n"
      ]
    },
    {
      "cell_type": "code",
      "execution_count": 28,
      "metadata": {
        "colab": {
          "base_uri": "https://localhost:8080/"
        },
        "id": "QygYgL12lTZV",
        "outputId": "4b3850ad-9e6f-4713-f189-b98e19ca711d"
      },
      "outputs": [
        {
          "output_type": "stream",
          "name": "stdout",
          "text": [
            "tensor([-0.9097,  0.0316, -0.5000])\n"
          ]
        }
      ],
      "source": [
        "#code here\n",
        "loss.backward()\n",
        "print(params.grad)"
      ]
    },
    {
      "cell_type": "markdown",
      "metadata": {
        "id": "KMcsRTr1lTZW"
      },
      "source": [
        "According to these gradients, all our parameters are a little low. So let's increase them a bit. If we subtract the gradient, multiplied by a small number, that should improve them a bit."
      ]
    },
    {
      "cell_type": "code",
      "execution_count": 29,
      "metadata": {
        "colab": {
          "base_uri": "https://localhost:8080/"
        },
        "id": "QhbB4rw1lTZW",
        "outputId": "fc96a19d-2c90-42e3-c6d5-59ecb9be38e4"
      },
      "outputs": [
        {
          "output_type": "stream",
          "name": "stdout",
          "text": [
            "loss=2.31\n"
          ]
        }
      ],
      "source": [
        "#code here\n",
        "params = params - 0.01 * params.grad\n",
        "loss = quad_mae(params)\n",
        "print(f'loss={loss:.2f}')"
      ]
    },
    {
      "cell_type": "markdown",
      "metadata": {
        "id": "SQXnU8pAlTZW"
      },
      "source": [
        "Yes, our loss has gone down!\n",
        "\n",
        "The \"small number\" we multiply is called the *learning rate*, and is the most important *hyper-parameter* to set when training a neural network.\n",
        "\n",
        "We can use a loop to do a few more iterations of this:"
      ]
    },
    {
      "cell_type": "code",
      "execution_count": 33,
      "metadata": {
        "colab": {
          "base_uri": "https://localhost:8080/"
        },
        "id": "bhcbA8oslTZW",
        "outputId": "bc258c44-2230-4979-f64a-14856bd5bfb4"
      },
      "outputs": [
        {
          "output_type": "stream",
          "name": "stdout",
          "text": [
            "loss in iter 0 = 2.31\n",
            "loss in iter 1 = 2.29\n",
            "loss in iter 2 = 2.26\n",
            "loss in iter 3 = 2.21\n",
            "loss in iter 4 = 2.16\n",
            "loss in iter 5 = 2.09\n",
            "loss in iter 6 = 2.02\n",
            "loss in iter 7 = 1.93\n",
            "loss in iter 8 = 1.84\n",
            "loss in iter 9 = 1.75\n",
            "loss in iter 10 = 1.69\n",
            "loss in iter 11 = 1.69\n",
            "loss in iter 12 = 1.70\n",
            "loss in iter 13 = 1.71\n",
            "loss in iter 14 = 1.71\n",
            "loss in iter 15 = 1.71\n",
            "loss in iter 16 = 1.71\n",
            "loss in iter 17 = 1.74\n",
            "loss in iter 18 = 1.76\n",
            "loss in iter 19 = 1.79\n",
            "loss in iter 20 = 1.80\n",
            "loss in iter 21 = 1.82\n",
            "loss in iter 22 = 1.82\n",
            "loss in iter 23 = 1.83\n",
            "loss in iter 24 = 1.88\n",
            "loss in iter 25 = 1.93\n",
            "loss in iter 26 = 1.98\n",
            "loss in iter 27 = 2.01\n",
            "loss in iter 28 = 2.04\n",
            "loss in iter 29 = 2.04\n",
            "loss in iter 30 = 2.03\n",
            "loss in iter 31 = 1.99\n",
            "loss in iter 32 = 1.93\n",
            "loss in iter 33 = 1.85\n",
            "loss in iter 34 = 1.74\n",
            "loss in iter 35 = 1.63\n",
            "loss in iter 36 = 1.51\n",
            "loss in iter 37 = 1.38\n",
            "loss in iter 38 = 1.31\n",
            "loss in iter 39 = 1.36\n",
            "loss in iter 40 = 1.44\n",
            "loss in iter 41 = 1.52\n",
            "loss in iter 42 = 1.59\n",
            "loss in iter 43 = 1.65\n",
            "loss in iter 44 = 1.71\n",
            "loss in iter 45 = 1.77\n",
            "loss in iter 46 = 1.83\n",
            "loss in iter 47 = 1.92\n",
            "loss in iter 48 = 2.00\n",
            "loss in iter 49 = 2.07\n",
            "loss in iter 50 = 2.14\n",
            "loss in iter 51 = 2.19\n",
            "loss in iter 52 = 2.23\n",
            "loss in iter 53 = 2.26\n",
            "loss in iter 54 = 2.27\n",
            "loss in iter 55 = 2.27\n",
            "loss in iter 56 = 2.26\n",
            "loss in iter 57 = 2.24\n",
            "loss in iter 58 = 2.21\n",
            "loss in iter 59 = 2.16\n",
            "loss in iter 60 = 2.10\n",
            "loss in iter 61 = 2.03\n",
            "loss in iter 62 = 1.94\n",
            "loss in iter 63 = 1.85\n",
            "loss in iter 64 = 1.78\n",
            "loss in iter 65 = 1.72\n",
            "loss in iter 66 = 1.65\n",
            "loss in iter 67 = 1.58\n",
            "loss in iter 68 = 1.51\n",
            "loss in iter 69 = 1.44\n",
            "loss in iter 70 = 1.36\n",
            "loss in iter 71 = 1.30\n",
            "loss in iter 72 = 1.34\n",
            "loss in iter 73 = 1.46\n",
            "loss in iter 74 = 1.57\n",
            "loss in iter 75 = 1.68\n",
            "loss in iter 76 = 1.78\n",
            "loss in iter 77 = 1.87\n",
            "loss in iter 78 = 1.93\n",
            "loss in iter 79 = 1.98\n",
            "loss in iter 80 = 2.00\n",
            "loss in iter 81 = 2.00\n",
            "loss in iter 82 = 1.98\n",
            "loss in iter 83 = 1.95\n",
            "loss in iter 84 = 1.91\n",
            "loss in iter 85 = 1.86\n",
            "loss in iter 86 = 1.83\n",
            "loss in iter 87 = 1.83\n",
            "loss in iter 88 = 1.83\n",
            "loss in iter 89 = 1.82\n",
            "loss in iter 90 = 1.80\n",
            "loss in iter 91 = 1.79\n",
            "loss in iter 92 = 1.76\n",
            "loss in iter 93 = 1.74\n",
            "loss in iter 94 = 1.73\n",
            "loss in iter 95 = 1.73\n",
            "loss in iter 96 = 1.73\n",
            "loss in iter 97 = 1.72\n",
            "loss in iter 98 = 1.71\n",
            "loss in iter 99 = 1.70\n"
          ]
        }
      ],
      "source": [
        "#code here\n",
        "params = torch.tensor([1.1, 1.1, 1.1], requires_grad=True)\n",
        "learning_rate = 0.01\n",
        "for i in range(100):\n",
        "    loss = quad_mae(params)\n",
        "    loss.backward()\n",
        "    with torch.no_grad():\n",
        "        params -= learning_rate * params.grad\n",
        "    loss_val = quad_mae(params)\n",
        "    print(f'loss in iter {i} = {loss_val:.2f}')"
      ]
    },
    {
      "cell_type": "markdown",
      "metadata": {
        "id": "jyIswEK1lTZZ"
      },
      "source": [
        "As you can see, our loss keeps going down!\n",
        "\n",
        "If you keep running this loop for long enough however, you'll see that the loss eventually starts increasing for a while. That's because once the parameters get close to the correct answer, our parameter updates will jump right over the correct answer! To avoid this, we need to decrease our learning rate as we train. This is done using a *learning rate schedule*, and can be automated in most deep learning frameworks, such as fastai and PyTorch."
      ]
    },
    {
      "cell_type": "markdown",
      "metadata": {
        "id": "vCvJMnOxlTZa"
      },
      "source": [
        "## How a neural network approximates any given function\n",
        "\n",
        "But neural nets are much more convenient and powerful than this example showed, because we can learn much more than just a quadratic with them. How does *that* work?\n",
        "\n",
        "\n",
        "The trick is that a neural network is a very expressive function. A neural network can approximate any computable function, given enough parameters. A \"computable function\" can cover just about anything you can imagine: understand and translate human speech; paint a picture; diagnose a disease from medical imaging; write an essay; etc...\n",
        "\n",
        "The way a neural network approximates a function actually turns out to be very simple. The key trick is to combine two extremely basic steps:\n",
        "\n",
        "1. Matrix multiplication, which is just multiplying things together and then adding them up\n",
        "1. The function $max(x,0)$, which simply replaces all negative numbers with zero.\n",
        "\n",
        "The combination of a linear function and this *max()* is called a *rectified linear function*."
      ]
    },
    {
      "cell_type": "code",
      "execution_count": 34,
      "metadata": {
        "id": "NTYqbDX8lTZa"
      },
      "outputs": [],
      "source": [
        "def rectified_linear(m,b,x):\n",
        "    y = m * x + b\n",
        "    return torch.maximum(y, torch.tensor(0.0))"
      ]
    },
    {
      "cell_type": "code",
      "execution_count": 35,
      "metadata": {
        "colab": {
          "base_uri": "https://localhost:8080/",
          "height": 389
        },
        "id": "PkTk-23nlTZa",
        "outputId": "7dcc2bd8-5345-4adb-f3fb-2b4d20f881de"
      },
      "outputs": [
        {
          "output_type": "display_data",
          "data": {
            "text/plain": [
              "<Figure size 576x432 with 1 Axes>"
            ],
            "image/png": "[encoded data removed]"
          },
          "metadata": {}
        }
      ],
      "source": [
        "plot_function(partial(rectified_linear, 1,1))"
      ]
    },
    {
      "cell_type": "markdown",
      "metadata": {
        "id": "IdhQQBn1lTZa"
      },
      "source": [
        "we can instead use `relu(x)`, which does exactly the same thing."
      ]
    },
    {
      "cell_type": "code",
      "execution_count": 37,
      "metadata": {
        "colab": {
          "base_uri": "https://localhost:8080/",
          "height": 389
        },
        "id": "YaFxWbi_lTZa",
        "outputId": "6bd6feac-fee6-4606-a9f8-2c07c0b4a422"
      },
      "outputs": [
        {
          "output_type": "display_data",
          "data": {
            "text/plain": [
              "<Figure size 576x432 with 1 Axes>"
            ],
            "image/png": "[encoded data removed]"
          },
          "metadata": {}
        }
      ],
      "source": [
        "def rectified_linear2(m,b,x):\n",
        "   return torch.relu(m * x + b)\n",
        "plot_function(partial(rectified_linear2, 1,1))"
      ]
    },
    {
      "cell_type": "markdown",
      "metadata": {
        "id": "svclqgwglTZa"
      },
      "source": [
        "To understand how this function works, try using this interactive version to play around with the parameters `m` and `b`:"
      ]
    },
    {
      "cell_type": "code",
      "execution_count": 39,
      "metadata": {
        "colab": {
          "base_uri": "https://localhost:8080/",
          "height": 453,
          "referenced_widgets": [
            "1ead7a912d9f4e839cfd11400a973638",
            "affa3b3954044be89af6f329a72e2b3b",
            "e2aaae460c5e4a72b7ce80092667fb9d",
            "5481a365e36a425c916e480261eb409d",
            "336550b6ad3a4a298a77574788e5cdc8",
            "1e06adf820984dd9874bdb368022d17f",
            "89b300cc110f4a0eb98b0d6800e79d7b",
            "c78535cb52a14007909d924ac6319b25",
            "435239384c09416a8837aee8d2215aef",
            "2a554aed4830464b8746f93ea064aa6e"
          ]
        },
        "id": "HN5E93HAlTZa",
        "outputId": "f62a22b5-cf30-4a78-9159-8f60a01559a8"
      },
      "outputs": [
        {
          "output_type": "display_data",
          "data": {
            "text/plain": [
              "interactive(children=(FloatSlider(value=0.0, description='m', max=4.0, min=-4.0), FloatSlider(value=0.0, descr…"
            ],
            "application/vnd.jupyter.widget-view+json": {
              "version_major": 2,
              "version_minor": 0,
              "model_id": "1ead7a912d9f4e839cfd11400a973638"
            }
          },
          "metadata": {}
        }
      ],
      "source": [
        "@interact(m=(-4.0, 4.0, 0.1), b=(-4.0, 4.0, 0.1))\n",
        "def interactive_relu(m, b):\n",
        "    plot_function(partial(rectified_linear, m, b))\n",
        "    plt.show()"
      ]
    },
    {
      "cell_type": "markdown",
      "metadata": {
        "id": "_TXeEyqflTZa"
      },
      "source": [
        "As you see, `m` changes the slope, and `b` changes where the \"hook\" appears. This function doesn't do much on its own, but look what happens when we add two of them together:"
      ]
    },
    {
      "cell_type": "code",
      "execution_count": 40,
      "metadata": {
        "colab": {
          "base_uri": "https://localhost:8080/",
          "height": 522,
          "referenced_widgets": [
            "b3ca6685a82a44c7826b50d356787bc0",
            "7bcc823026984547b676fb6a5ab5eade",
            "a02b0a8e81c0459da391d2710e08b78f",
            "b748cebfe91041edb73c43ca43edf02e",
            "4b8c89c157aa4d54b393fe448c1d24ab",
            "87f5cefccb094c65ab496c7c344dea46",
            "8bc4b65a529048a4a8b9627ed7cd3072",
            "80c84706fa1c413e964f77b3217bcf97",
            "f2e31f959eb44e848af904c996b1b823",
            "c9ef63fa0eec4fbabd375340858ba2f4",
            "0b70ef0149814fa890e534e97a734649",
            "a73cabcefe0e4d41822235ea97c1cc0a",
            "65005a61389b4b8c9d5a7611c6975f5d",
            "7c33a5bf4b334c23953b57c57e8c5282",
            "343132fe61f24c40962431dac1730972",
            "de3830b86dee440cb125c145cd0b57e5"
          ]
        },
        "id": "Z_EyGaO9lTZa",
        "outputId": "d9183d16-f424-48ad-d959-43c5be0af435"
      },
      "outputs": [
        {
          "output_type": "display_data",
          "data": {
            "text/plain": [
              "interactive(children=(FloatSlider(value=0.0, description='m1', max=5.0, min=-5.0), FloatSlider(value=0.0, desc…"
            ],
            "application/vnd.jupyter.widget-view+json": {
              "version_major": 2,
              "version_minor": 0,
              "model_id": "b3ca6685a82a44c7826b50d356787bc0"
            }
          },
          "metadata": {}
        }
      ],
      "source": [
        "def double_relu(m1,b1,m2,b2,x):\n",
        "    y1 = rectified_linear(m1, b1, x)\n",
        "    y2 = rectified_linear(m2, b2, x)\n",
        "    return y1 + y2\n",
        "\n",
        "@interact(m1=(-5.0, 5.0, 0.1), b1=(-5.0, 5.0, 0.1), m2=(-5.0, 5.0, 0.1), b2=(-5.0, 5.0, 0.1))\n",
        "def plot_double_relu(m1, b1, m2, b2):\n",
        "    plot_function(partial(double_relu, m1,b1,m2,b2), ylim=(-1,6))\n",
        "    plt.show()"
      ]
    },
    {
      "cell_type": "markdown",
      "metadata": {
        "id": "8jNZyxKBlTZb"
      },
      "source": [
        "If you play around with that for a while, you notice something quite profound: with enough of these rectified linear functions added together, you could approximate any function with a single input, to whatever accuracy you like! Any time the function doesn't quite match, you can just add a few more additions to the mix to make it a bit closer. As an experiment, perhaps you'd like to try creating your own `plot_triple_relu` interactive function, and maybe even include the scatter plot of our data from before, to see how close you can get?\n",
        "\n",
        "This exact same approach can be expanded to functions of 2, 3, or more parameters."
      ]
    },
    {
      "cell_type": "code",
      "execution_count": 42,
      "metadata": {
        "colab": {
          "base_uri": "https://localhost:8080/",
          "height": 581,
          "referenced_widgets": [
            "e22032683de64e4fa5facb5dd68adce6",
            "c3fe1202f4014efeb4ef9b7dde3d71ca",
            "1ee4ecab4d004a5a8e5416e4d9b99bb3",
            "120816328ab748f1bfc49c3260e119d0",
            "3d31864b2a2e4f449283b9e908cdeb4b",
            "156476ad397f4594beeaf9e00ebda772",
            "c84f78851b6146b5a24d7dd086748236",
            "5d38e727a14348a6b01c3b4c5ccd41f3",
            "c2b3ba5084b7496ba764c10e556dd54e",
            "8d0f0a6c8e584eb995d07241741d32a3",
            "68b82f2fcf744145a3cc7933eba3beba",
            "5407a4ff3697418084a7596452a1882a",
            "7fc4f7d473ce49b29c1426b8a031c652",
            "888ff77137884f7a97c0a7a74d004c02",
            "1b8a4de1eaf44429acd496a00e3ee0a3",
            "0ac09947ace441e2918b46611e7fbaef",
            "b2fbb8d6becc433db95a42d5a75b20f1",
            "4332d6827034406485db1cf6681a1cbc",
            "854039c518e84c6c9254f8cf3b163fd7",
            "80c7e0db31b644e6909bd7837fbfc8ca",
            "a058844862fe4444ab484adc45c9fa50",
            "053d3010c957419586508e1840b7de3e"
          ]
        },
        "id": "GL1yG6PLlTZb",
        "outputId": "b7e67a4d-c897-4af2-f562-71de3834316b"
      },
      "outputs": [
        {
          "output_type": "display_data",
          "data": {
            "text/plain": [
              "interactive(children=(FloatSlider(value=0.0, description='m1', max=4.0, min=-4.0), FloatSlider(value=0.0, desc…"
            ],
            "application/vnd.jupyter.widget-view+json": {
              "version_major": 2,
              "version_minor": 0,
              "model_id": "e22032683de64e4fa5facb5dd68adce6"
            }
          },
          "metadata": {}
        }
      ],
      "source": [
        "#Bonus\n",
        "def triple_relu(m1, b1, m2, b2, m3, b3, x):\n",
        "    y1 = rectified_linear(m1, b1, x)\n",
        "    y2 = rectified_linear(m2, b2, x)\n",
        "    y3 = rectified_linear(m3, b3, x)\n",
        "    return y1 + y2 + y3\n",
        "\n",
        "@interact(m1=(-4.0, 4.0, 0.1), b1=(-4.0, 4.0, 0.1),\n",
        "          m2=(-4.0, 4.0, 0.1), b2=(-4.0, 4.0, 0.1),\n",
        "          m3=(-4.0, 4.0, 0.1), b3=(-4.0, 4.0, 0.1))\n",
        "def plot_triple_relu(m1, b1, m2, b2, m3, b3):\n",
        "    plot_function(partial(triple_relu, m1, b1, m2, b2, m3, b3))\n",
        "    plt.show()"
      ]
    },
    {
      "cell_type": "markdown",
      "metadata": {
        "id": "bgOL3pHklTZb"
      },
      "source": [
        "Now put them all together and try to learn the best function that fits your generated data(x,y) using only nueral networks as best as you can.\n",
        "\n",
        "you will see in the future how best is actully defined!"
      ]
    },
    {
      "cell_type": "code",
      "execution_count": 53,
      "metadata": {
        "colab": {
          "base_uri": "https://localhost:8080/",
          "height": 389
        },
        "id": "Htso7MnQlTZb",
        "outputId": "5b7af502-e84e-4c10-cedb-dddf88033b51"
      },
      "outputs": [
        {
          "output_type": "display_data",
          "data": {
            "text/plain": [
              "<Figure size 576x432 with 1 Axes>"
            ],
            "image/png": "[encoded data removed]"
          },
          "metadata": {}
        }
      ],
      "source": [
        "#code here\n",
        "# Reddit and some github links mostly myself :)\n",
        "from torch import nn, optim\n",
        "model = nn.Sequential(\n",
        "    nn.Linear(1, 5),\n",
        "    nn.ReLU(),\n",
        "    nn.Linear(5, 5), # hidden layer\n",
        "    nn.ReLU(),\n",
        "    nn.Linear(5, 1)\n",
        ")\n",
        "\n",
        "# Training setup\n",
        "loss_fn = nn.MSELoss()\n",
        "optimizer = optim.SGD(model.parameters(), lr=0.01)\n",
        "\n",
        "for epoch in range(1000):\n",
        "    y_pred = model(x)\n",
        "    loss = loss_fn(y_pred, y)\n",
        "    optimizer.zero_grad()\n",
        "    loss.backward()\n",
        "    optimizer.step()\n",
        "\n",
        "with torch.no_grad():\n",
        "    plt.scatter(x.numpy(), y.numpy())\n",
        "    plt.plot(x.numpy(), model(x).numpy(), color='r')\n",
        "    plt.show()\n"
      ]
    }
  ],
  "metadata": {
    "kernelspec": {
      "display_name": "Python 3",
      "language": "python",
      "name": "python3"
    },
    "language_info": {
      "codemirror_mode": {
        "name": "ipython",
        "version": 3
      },
      "file_extension": ".py",
      "mimetype": "text/x-python",
      "name": "python",
      "nbconvert_exporter": "python",
      "pygments_lexer": "ipython3",
      "version": "3.11.5"
    },
    "colab": {
      "provenance": []
    },
    "widgets": {
      "application/vnd.jupyter.widget-state+json": {
        "53195ff9e3744724b795f72257cb839b": {
          "model_module": "@jupyter-widgets/controls",
          "model_name": "VBoxModel",
          "model_module_version": "1.5.0",
          "state": {
            "_dom_classes": [
              "widget-interact"
            ],
            "_model_module": "@jupyter-widgets/controls",
            "_model_module_version": "1.5.0",
            "_model_name": "VBoxModel",
            "_view_count": null,
            "_view_module": "@jupyter-widgets/controls",
            "_view_module_version": "1.5.0",
            "_view_name": "VBoxView",
            "box_style": "",
            "children": [
              "IPY_MODEL_630fc8f42b934e0f8391ee74642e2363",
              "IPY_MODEL_7876f58a25a543fcbe02971d857499cc",
              "IPY_MODEL_89567477983d4bfcb3e3b42e7b93838c",
              "IPY_MODEL_5bf843be0e7148189afc4ade6b9f79aa"
            ],
            "layout": "IPY_MODEL_694a210d03c2421e8ea7977cd5833a8b"
          }
        },
        "630fc8f42b934e0f8391ee74642e2363": {
          "model_module": "@jupyter-widgets/controls",
          "model_name": "FloatSliderModel",
          "model_module_version": "1.5.0",
          "state": {
            "_dom_classes": [],
            "_model_module": "@jupyter-widgets/controls",
            "_model_module_version": "1.5.0",
            "_model_name": "FloatSliderModel",
            "_view_count": null,
            "_view_module": "@jupyter-widgets/controls",
            "_view_module_version": "1.5.0",
            "_view_name": "FloatSliderView",
            "continuous_update": true,
            "description": "a",
            "description_tooltip": null,
            "disabled": false,
            "layout": "IPY_MODEL_81bafb8201e84e49a07fb4aeab0366c5",
            "max": 4,
            "min": -4,
            "orientation": "horizontal",
            "readout": true,
            "readout_format": ".2f",
            "step": 0.1,
            "style": "IPY_MODEL_af1883668f014eb79b0e2fa1b25c4cee",
            "value": 2.3
          }
        },
        "7876f58a25a543fcbe02971d857499cc": {
          "model_module": "@jupyter-widgets/controls",
          "model_name": "FloatSliderModel",
          "model_module_version": "1.5.0",
          "state": {
            "_dom_classes": [],
            "_model_module": "@jupyter-widgets/controls",
            "_model_module_version": "1.5.0",
            "_model_name": "FloatSliderModel",
            "_view_count": null,
            "_view_module": "@jupyter-widgets/controls",
            "_view_module_version": "1.5.0",
            "_view_name": "FloatSliderView",
            "continuous_update": true,
            "description": "b",
            "description_tooltip": null,
            "disabled": false,
            "layout": "IPY_MODEL_da18ccd02e1d432dbe34505a9a4ff453",
            "max": 4,
            "min": -4,
            "orientation": "horizontal",
            "readout": true,
            "readout_format": ".2f",
            "step": 0.1,
            "style": "IPY_MODEL_0af567fe653b423e9cb10e51f8ca0564",
            "value": 2.6
          }
        },
        "89567477983d4bfcb3e3b42e7b93838c": {
          "model_module": "@jupyter-widgets/controls",
          "model_name": "FloatSliderModel",
          "model_module_version": "1.5.0",
          "state": {
            "_dom_classes": [],
            "_model_module": "@jupyter-widgets/controls",
            "_model_module_version": "1.5.0",
            "_model_name": "FloatSliderModel",
            "_view_count": null,
            "_view_module": "@jupyter-widgets/controls",
            "_view_module_version": "1.5.0",
            "_view_name": "FloatSliderView",
            "continuous_update": true,
            "description": "c",
            "description_tooltip": null,
            "disabled": false,
            "layout": "IPY_MODEL_1315b7fb10154b0d976f0adac909f57c",
            "max": 4,
            "min": -4,
            "orientation": "horizontal",
            "readout": true,
            "readout_format": ".2f",
            "step": 0.1,
            "style": "IPY_MODEL_ae2b6530f94f4e509c770e6927dc34b3",
            "value": 1.5
          }
        },
        "5bf843be0e7148189afc4ade6b9f79aa": {
          "model_module": "@jupyter-widgets/output",
          "model_name": "OutputModel",
          "model_module_version": "1.0.0",
          "state": {
            "_dom_classes": [],
            "_model_module": "@jupyter-widgets/output",
            "_model_module_version": "1.0.0",
            "_model_name": "OutputModel",
            "_view_count": null,
            "_view_module": "@jupyter-widgets/output",
            "_view_module_version": "1.0.0",
            "_view_name": "OutputView",
            "layout": "IPY_MODEL_1465ad0a6f964fcfb48384a61c2e7ff2",
            "msg_id": "",
            "outputs": [
              {
                "output_type": "display_data",
                "data": {
                  "text/plain": "<Figure size 576x432 with 1 Axes>",
                  "image/png": "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\n"
                },
                "metadata": {}
              }
            ]
          }
        },
        "694a210d03c2421e8ea7977cd5833a8b": {
          "model_module": "@jupyter-widgets/base",
          "model_name": "LayoutModel",
          "model_module_version": "1.2.0",
          "state": {
            "_model_module": "@jupyter-widgets/base",
            "_model_module_version": "1.2.0",
            "_model_name": "LayoutModel",
            "_view_count": null,
            "_view_module": "@jupyter-widgets/base",
            "_view_module_version": "1.2.0",
            "_view_name": "LayoutView",
            "align_content": null,
            "align_items": null,
            "align_self": null,
            "border": null,
            "bottom": null,
            "display": null,
            "flex": null,
            "flex_flow": null,
            "grid_area": null,
            "grid_auto_columns": null,
            "grid_auto_flow": null,
            "grid_auto_rows": null,
            "grid_column": null,
            "grid_gap": null,
            "grid_row": null,
            "grid_template_areas": null,
            "grid_template_columns": null,
            "grid_template_rows": null,
            "height": null,
            "justify_content": null,
            "justify_items": null,
            "left": null,
            "margin": null,
            "max_height": null,
            "max_width": null,
            "min_height": null,
            "min_width": null,
            "object_fit": null,
            "object_position": null,
            "order": null,
            "overflow": null,
            "overflow_x": null,
            "overflow_y": null,
            "padding": null,
            "right": null,
            "top": null,
            "visibility": null,
            "width": null
          }
        },
        "81bafb8201e84e49a07fb4aeab0366c5": {
          "model_module": "@jupyter-widgets/base",
          "model_name": "LayoutModel",
          "model_module_version": "1.2.0",
          "state": {
            "_model_module": "@jupyter-widgets/base",
            "_model_module_version": "1.2.0",
            "_model_name": "LayoutModel",
            "_view_count": null,
            "_view_module": "@jupyter-widgets/base",
            "_view_module_version": "1.2.0",
            "_view_name": "LayoutView",
            "align_content": null,
            "align_items": null,
            "align_self": null,
            "border": null,
            "bottom": null,
            "display": null,
            "flex": null,
            "flex_flow": null,
            "grid_area": null,
            "grid_auto_columns": null,
            "grid_auto_flow": null,
            "grid_auto_rows": null,
            "grid_column": null,
            "grid_gap": null,
            "grid_row": null,
            "grid_template_areas": null,
            "grid_template_columns": null,
            "grid_template_rows": null,
            "height": null,
            "justify_content": null,
            "justify_items": null,
            "left": null,
            "margin": null,
            "max_height": null,
            "max_width": null,
            "min_height": null,
            "min_width": null,
            "object_fit": null,
            "object_position": null,
            "order": null,
            "overflow": null,
            "overflow_x": null,
            "overflow_y": null,
            "padding": null,
            "right": null,
            "top": null,
            "visibility": null,
            "width": null
          }
        },
        "af1883668f014eb79b0e2fa1b25c4cee": {
          "model_module": "@jupyter-widgets/controls",
          "model_name": "SliderStyleModel",
          "model_module_version": "1.5.0",
          "state": {
            "_model_module": "@jupyter-widgets/controls",
            "_model_module_version": "1.5.0",
            "_model_name": "SliderStyleModel",
            "_view_count": null,
            "_view_module": "@jupyter-widgets/base",
            "_view_module_version": "1.2.0",
            "_view_name": "StyleView",
            "description_width": "",
            "handle_color": null
          }
        },
        "da18ccd02e1d432dbe34505a9a4ff453": {
          "model_module": "@jupyter-widgets/base",
          "model_name": "LayoutModel",
          "model_module_version": "1.2.0",
          "state": {
            "_model_module": "@jupyter-widgets/base",
            "_model_module_version": "1.2.0",
            "_model_name": "LayoutModel",
            "_view_count": null,
            "_view_module": "@jupyter-widgets/base",
            "_view_module_version": "1.2.0",
            "_view_name": "LayoutView",
            "align_content": null,
            "align_items": null,
            "align_self": null,
            "border": null,
            "bottom": null,
            "display": null,
            "flex": null,
            "flex_flow": null,
            "grid_area": null,
            "grid_auto_columns": null,
            "grid_auto_flow": null,
            "grid_auto_rows": null,
            "grid_column": null,
            "grid_gap": null,
            "grid_row": null,
            "grid_template_areas": null,
            "grid_template_columns": null,
            "grid_template_rows": null,
            "height": null,
            "justify_content": null,
            "justify_items": null,
            "left": null,
            "margin": null,
            "max_height": null,
            "max_width": null,
            "min_height": null,
            "min_width": null,
            "object_fit": null,
            "object_position": null,
            "order": null,
            "overflow": null,
            "overflow_x": null,
            "overflow_y": null,
            "padding": null,
            "right": null,
            "top": null,
            "visibility": null,
            "width": null
          }
        },
        "0af567fe653b423e9cb10e51f8ca0564": {
          "model_module": "@jupyter-widgets/controls",
          "model_name": "SliderStyleModel",
          "model_module_version": "1.5.0",
          "state": {
            "_model_module": "@jupyter-widgets/controls",
            "_model_module_version": "1.5.0",
            "_model_name": "SliderStyleModel",
            "_view_count": null,
            "_view_module": "@jupyter-widgets/base",
            "_view_module_version": "1.2.0",
            "_view_name": "StyleView",
            "description_width": "",
            "handle_color": null
          }
        },
        "1315b7fb10154b0d976f0adac909f57c": {
          "model_module": "@jupyter-widgets/base",
          "model_name": "LayoutModel",
          "model_module_version": "1.2.0",
          "state": {
            "_model_module": "@jupyter-widgets/base",
            "_model_module_version": "1.2.0",
            "_model_name": "LayoutModel",
            "_view_count": null,
            "_view_module": "@jupyter-widgets/base",
            "_view_module_version": "1.2.0",
            "_view_name": "LayoutView",
            "align_content": null,
            "align_items": null,
            "align_self": null,
            "border": null,
            "bottom": null,
            "display": null,
            "flex": null,
            "flex_flow": null,
            "grid_area": null,
            "grid_auto_columns": null,
            "grid_auto_flow": null,
            "grid_auto_rows": null,
            "grid_column": null,
            "grid_gap": null,
            "grid_row": null,
            "grid_template_areas": null,
            "grid_template_columns": null,
            "grid_template_rows": null,
            "height": null,
            "justify_content": null,
            "justify_items": null,
            "left": null,
            "margin": null,
            "max_height": null,
            "max_width": null,
            "min_height": null,
            "min_width": null,
            "object_fit": null,
            "object_position": null,
            "order": null,
            "overflow": null,
            "overflow_x": null,
            "overflow_y": null,
            "padding": null,
            "right": null,
            "top": null,
            "visibility": null,
            "width": null
          }
        },
        "ae2b6530f94f4e509c770e6927dc34b3": {
          "model_module": "@jupyter-widgets/controls",
          "model_name": "SliderStyleModel",
          "model_module_version": "1.5.0",
          "state": {
            "_model_module": "@jupyter-widgets/controls",
            "_model_module_version": "1.5.0",
            "_model_name": "SliderStyleModel",
            "_view_count": null,
            "_view_module": "@jupyter-widgets/base",
            "_view_module_version": "1.2.0",
            "_view_name": "StyleView",
            "description_width": "",
            "handle_color": null
          }
        },
        "1465ad0a6f964fcfb48384a61c2e7ff2": {
          "model_module": "@jupyter-widgets/base",
          "model_name": "LayoutModel",
          "model_module_version": "1.2.0",
          "state": {
            "_model_module": "@jupyter-widgets/base",
            "_model_module_version": "1.2.0",
            "_model_name": "LayoutModel",
            "_view_count": null,
            "_view_module": "@jupyter-widgets/base",
            "_view_module_version": "1.2.0",
            "_view_name": "LayoutView",
            "align_content": null,
            "align_items": null,
            "align_self": null,
            "border": null,
            "bottom": null,
            "display": null,
            "flex": null,
            "flex_flow": null,
            "grid_area": null,
            "grid_auto_columns": null,
            "grid_auto_flow": null,
            "grid_auto_rows": null,
            "grid_column": null,
            "grid_gap": null,
            "grid_row": null,
            "grid_template_areas": null,
            "grid_template_columns": null,
            "grid_template_rows": null,
            "height": null,
            "justify_content": null,
            "justify_items": null,
            "left": null,
            "margin": null,
            "max_height": null,
            "max_width": null,
            "min_height": null,
            "min_width": null,
            "object_fit": null,
            "object_position": null,
            "order": null,
            "overflow": null,
            "overflow_x": null,
            "overflow_y": null,
            "padding": null,
            "right": null,
            "top": null,
            "visibility": null,
            "width": null
          }
        },
        "9ab1dbe71a914c1da181a5333dc56fac": {
          "model_module": "@jupyter-widgets/controls",
          "model_name": "VBoxModel",
          "model_module_version": "1.5.0",
          "state": {
            "_dom_classes": [
              "widget-interact"
            ],
            "_model_module": "@jupyter-widgets/controls",
            "_model_module_version": "1.5.0",
            "_model_name": "VBoxModel",
            "_view_count": null,
            "_view_module": "@jupyter-widgets/controls",
            "_view_module_version": "1.5.0",
            "_view_name": "VBoxView",
            "box_style": "",
            "children": [
              "IPY_MODEL_14374c4020ed42fba687dda727604607",
              "IPY_MODEL_6d98d6d52d1548f08e75ba1efd96fd65",
              "IPY_MODEL_daaf9644f1ae4bdc86f84fd2e3f47c51",
              "IPY_MODEL_49b85470bee049edb20c1d2182a9f3e0"
            ],
            "layout": "IPY_MODEL_87f8ba6f83df4759bb0872b3494d2b62"
          }
        },
        "14374c4020ed42fba687dda727604607": {
          "model_module": "@jupyter-widgets/controls",
          "model_name": "FloatSliderModel",
          "model_module_version": "1.5.0",
          "state": {
            "_dom_classes": [],
            "_model_module": "@jupyter-widgets/controls",
            "_model_module_version": "1.5.0",
            "_model_name": "FloatSliderModel",
            "_view_count": null,
            "_view_module": "@jupyter-widgets/controls",
            "_view_module_version": "1.5.0",
            "_view_name": "FloatSliderView",
            "continuous_update": true,
            "description": "a",
            "description_tooltip": null,
            "disabled": false,
            "layout": "IPY_MODEL_0064ccf2c83b49f3831c6b31e191e9e3",
            "max": 4,
            "min": 0,
            "orientation": "horizontal",
            "readout": true,
            "readout_format": ".2f",
            "step": 0.1,
            "style": "IPY_MODEL_21473212b8a04acb943b5b3a40bb22f5",
            "value": 2
          }
        },
        "6d98d6d52d1548f08e75ba1efd96fd65": {
          "model_module": "@jupyter-widgets/controls",
          "model_name": "FloatSliderModel",
          "model_module_version": "1.5.0",
          "state": {
            "_dom_classes": [],
            "_model_module": "@jupyter-widgets/controls",
            "_model_module_version": "1.5.0",
            "_model_name": "FloatSliderModel",
            "_view_count": null,
            "_view_module": "@jupyter-widgets/controls",
            "_view_module_version": "1.5.0",
            "_view_name": "FloatSliderView",
            "continuous_update": true,
            "description": "b",
            "description_tooltip": null,
            "disabled": false,
            "layout": "IPY_MODEL_962b1be91e424c4cab7fe82928310618",
            "max": 4,
            "min": 0,
            "orientation": "horizontal",
            "readout": true,
            "readout_format": ".2f",
            "step": 0.1,
            "style": "IPY_MODEL_ff584d6214894f41ae8eab4c0701950a",
            "value": 2
          }
        },
        "daaf9644f1ae4bdc86f84fd2e3f47c51": {
          "model_module": "@jupyter-widgets/controls",
          "model_name": "FloatSliderModel",
          "model_module_version": "1.5.0",
          "state": {
            "_dom_classes": [],
            "_model_module": "@jupyter-widgets/controls",
            "_model_module_version": "1.5.0",
            "_model_name": "FloatSliderModel",
            "_view_count": null,
            "_view_module": "@jupyter-widgets/controls",
            "_view_module_version": "1.5.0",
            "_view_name": "FloatSliderView",
            "continuous_update": true,
            "description": "c",
            "description_tooltip": null,
            "disabled": false,
            "layout": "IPY_MODEL_db9caa1bf90649a1accde6c87be58a32",
            "max": 4,
            "min": 0,
            "orientation": "horizontal",
            "readout": true,
            "readout_format": ".2f",
            "step": 0.1,
            "style": "IPY_MODEL_35565eadfce24425bdbbfd4c80b6288d",
            "value": 2
          }
        },
        "49b85470bee049edb20c1d2182a9f3e0": {
          "model_module": "@jupyter-widgets/output",
          "model_name": "OutputModel",
          "model_module_version": "1.0.0",
          "state": {
            "_dom_classes": [],
            "_model_module": "@jupyter-widgets/output",
            "_model_module_version": "1.0.0",
            "_model_name": "OutputModel",
            "_view_count": null,
            "_view_module": "@jupyter-widgets/output",
            "_view_module_version": "1.0.0",
            "_view_name": "OutputView",
            "layout": "IPY_MODEL_b1c843f177594abfb80ae869c55f1adf",
            "msg_id": "",
            "outputs": [
              {
                "output_type": "display_data",
                "data": {
                  "text/plain": "<Figure size 576x432 with 1 Axes>",
                  "image/png": "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\n"
                },
                "metadata": {}
              }
            ]
          }
        },
        "87f8ba6f83df4759bb0872b3494d2b62": {
          "model_module": "@jupyter-widgets/base",
          "model_name": "LayoutModel",
          "model_module_version": "1.2.0",
          "state": {
            "_model_module": "@jupyter-widgets/base",
            "_model_module_version": "1.2.0",
            "_model_name": "LayoutModel",
            "_view_count": null,
            "_view_module": "@jupyter-widgets/base",
            "_view_module_version": "1.2.0",
            "_view_name": "LayoutView",
            "align_content": null,
            "align_items": null,
            "align_self": null,
            "border": null,
            "bottom": null,
            "display": null,
            "flex": null,
            "flex_flow": null,
            "grid_area": null,
            "grid_auto_columns": null,
            "grid_auto_flow": null,
            "grid_auto_rows": null,
            "grid_column": null,
            "grid_gap": null,
            "grid_row": null,
            "grid_template_areas": null,
            "grid_template_columns": null,
            "grid_template_rows": null,
            "height": null,
            "justify_content": null,
            "justify_items": null,
            "left": null,
            "margin": null,
            "max_height": null,
            "max_width": null,
            "min_height": null,
            "min_width": null,
            "object_fit": null,
            "object_position": null,
            "order": null,
            "overflow": null,
            "overflow_x": null,
            "overflow_y": null,
            "padding": null,
            "right": null,
            "top": null,
            "visibility": null,
            "width": null
          }
        },
        "0064ccf2c83b49f3831c6b31e191e9e3": {
          "model_module": "@jupyter-widgets/base",
          "model_name": "LayoutModel",
          "model_module_version": "1.2.0",
          "state": {
            "_model_module": "@jupyter-widgets/base",
            "_model_module_version": "1.2.0",
            "_model_name": "LayoutModel",
            "_view_count": null,
            "_view_module": "@jupyter-widgets/base",
            "_view_module_version": "1.2.0",
            "_view_name": "LayoutView",
            "align_content": null,
            "align_items": null,
            "align_self": null,
            "border": null,
            "bottom": null,
            "display": null,
            "flex": null,
            "flex_flow": null,
            "grid_area": null,
            "grid_auto_columns": null,
            "grid_auto_flow": null,
            "grid_auto_rows": null,
            "grid_column": null,
            "grid_gap": null,
            "grid_row": null,
            "grid_template_areas": null,
            "grid_template_columns": null,
            "grid_template_rows": null,
            "height": null,
            "justify_content": null,
            "justify_items": null,
            "left": null,
            "margin": null,
            "max_height": null,
            "max_width": null,
            "min_height": null,
            "min_width": null,
            "object_fit": null,
            "object_position": null,
            "order": null,
            "overflow": null,
            "overflow_x": null,
            "overflow_y": null,
            "padding": null,
            "right": null,
            "top": null,
            "visibility": null,
            "width": null
          }
        },
        "21473212b8a04acb943b5b3a40bb22f5": {
          "model_module": "@jupyter-widgets/controls",
          "model_name": "SliderStyleModel",
          "model_module_version": "1.5.0",
          "state": {
            "_model_module": "@jupyter-widgets/controls",
            "_model_module_version": "1.5.0",
            "_model_name": "SliderStyleModel",
            "_view_count": null,
            "_view_module": "@jupyter-widgets/base",
            "_view_module_version": "1.2.0",
            "_view_name": "StyleView",
            "description_width": "",
            "handle_color": null
          }
        },
        "962b1be91e424c4cab7fe82928310618": {
          "model_module": "@jupyter-widgets/base",
          "model_name": "LayoutModel",
          "model_module_version": "1.2.0",
          "state": {
            "_model_module": "@jupyter-widgets/base",
            "_model_module_version": "1.2.0",
            "_model_name": "LayoutModel",
            "_view_count": null,
            "_view_module": "@jupyter-widgets/base",
            "_view_module_version": "1.2.0",
            "_view_name": "LayoutView",
            "align_content": null,
            "align_items": null,
            "align_self": null,
            "border": null,
            "bottom": null,
            "display": null,
            "flex": null,
            "flex_flow": null,
            "grid_area": null,
            "grid_auto_columns": null,
            "grid_auto_flow": null,
            "grid_auto_rows": null,
            "grid_column": null,
            "grid_gap": null,
            "grid_row": null,
            "grid_template_areas": null,
            "grid_template_columns": null,
            "grid_template_rows": null,
            "height": null,
            "justify_content": null,
            "justify_items": null,
            "left": null,
            "margin": null,
            "max_height": null,
            "max_width": null,
            "min_height": null,
            "min_width": null,
            "object_fit": null,
            "object_position": null,
            "order": null,
            "overflow": null,
            "overflow_x": null,
            "overflow_y": null,
            "padding": null,
            "right": null,
            "top": null,
            "visibility": null,
            "width": null
          }
        },
        "ff584d6214894f41ae8eab4c0701950a": {
          "model_module": "@jupyter-widgets/controls",
          "model_name": "SliderStyleModel",
          "model_module_version": "1.5.0",
          "state": {
            "_model_module": "@jupyter-widgets/controls",
            "_model_module_version": "1.5.0",
            "_model_name": "SliderStyleModel",
            "_view_count": null,
            "_view_module": "@jupyter-widgets/base",
            "_view_module_version": "1.2.0",
            "_view_name": "StyleView",
            "description_width": "",
            "handle_color": null
          }
        },
        "db9caa1bf90649a1accde6c87be58a32": {
          "model_module": "@jupyter-widgets/base",
          "model_name": "LayoutModel",
          "model_module_version": "1.2.0",
          "state": {
            "_model_module": "@jupyter-widgets/base",
            "_model_module_version": "1.2.0",
            "_model_name": "LayoutModel",
            "_view_count": null,
            "_view_module": "@jupyter-widgets/base",
            "_view_module_version": "1.2.0",
            "_view_name": "LayoutView",
            "align_content": null,
            "align_items": null,
            "align_self": null,
            "border": null,
            "bottom": null,
            "display": null,
            "flex": null,
            "flex_flow": null,
            "grid_area": null,
            "grid_auto_columns": null,
            "grid_auto_flow": null,
            "grid_auto_rows": null,
            "grid_column": null,
            "grid_gap": null,
            "grid_row": null,
            "grid_template_areas": null,
            "grid_template_columns": null,
            "grid_template_rows": null,
            "height": null,
            "justify_content": null,
            "justify_items": null,
            "left": null,
            "margin": null,
            "max_height": null,
            "max_width": null,
            "min_height": null,
            "min_width": null,
            "object_fit": null,
            "object_position": null,
            "order": null,
            "overflow": null,
            "overflow_x": null,
            "overflow_y": null,
            "padding": null,
            "right": null,
            "top": null,
            "visibility": null,
            "width": null
          }
        },
        "35565eadfce24425bdbbfd4c80b6288d": {
          "model_module": "@jupyter-widgets/controls",
          "model_name": "SliderStyleModel",
          "model_module_version": "1.5.0",
          "state": {
            "_model_module": "@jupyter-widgets/controls",
            "_model_module_version": "1.5.0",
            "_model_name": "SliderStyleModel",
            "_view_count": null,
            "_view_module": "@jupyter-widgets/base",
            "_view_module_version": "1.2.0",
            "_view_name": "StyleView",
            "description_width": "",
            "handle_color": null
          }
        },
        "b1c843f177594abfb80ae869c55f1adf": {
          "model_module": "@jupyter-widgets/base",
          "model_name": "LayoutModel",
          "model_module_version": "1.2.0",
          "state": {
            "_model_module": "@jupyter-widgets/base",
            "_model_module_version": "1.2.0",
            "_model_name": "LayoutModel",
            "_view_count": null,
            "_view_module": "@jupyter-widgets/base",
            "_view_module_version": "1.2.0",
            "_view_name": "LayoutView",
            "align_content": null,
            "align_items": null,
            "align_self": null,
            "border": null,
            "bottom": null,
            "display": null,
            "flex": null,
            "flex_flow": null,
            "grid_area": null,
            "grid_auto_columns": null,
            "grid_auto_flow": null,
            "grid_auto_rows": null,
            "grid_column": null,
            "grid_gap": null,
            "grid_row": null,
            "grid_template_areas": null,
            "grid_template_columns": null,
            "grid_template_rows": null,
            "height": null,
            "justify_content": null,
            "justify_items": null,
            "left": null,
            "margin": null,
            "max_height": null,
            "max_width": null,
            "min_height": null,
            "min_width": null,
            "object_fit": null,
            "object_position": null,
            "order": null,
            "overflow": null,
            "overflow_x": null,
            "overflow_y": null,
            "padding": null,
            "right": null,
            "top": null,
            "visibility": null,
            "width": null
          }
        },
        "1ead7a912d9f4e839cfd11400a973638": {
          "model_module": "@jupyter-widgets/controls",
          "model_name": "VBoxModel",
          "model_module_version": "1.5.0",
          "state": {
            "_dom_classes": [
              "widget-interact"
            ],
            "_model_module": "@jupyter-widgets/controls",
            "_model_module_version": "1.5.0",
            "_model_name": "VBoxModel",
            "_view_count": null,
            "_view_module": "@jupyter-widgets/controls",
            "_view_module_version": "1.5.0",
            "_view_name": "VBoxView",
            "box_style": "",
            "children": [
              "IPY_MODEL_affa3b3954044be89af6f329a72e2b3b",
              "IPY_MODEL_e2aaae460c5e4a72b7ce80092667fb9d",
              "IPY_MODEL_5481a365e36a425c916e480261eb409d"
            ],
            "layout": "IPY_MODEL_336550b6ad3a4a298a77574788e5cdc8"
          }
        },
        "affa3b3954044be89af6f329a72e2b3b": {
          "model_module": "@jupyter-widgets/controls",
          "model_name": "FloatSliderModel",
          "model_module_version": "1.5.0",
          "state": {
            "_dom_classes": [],
            "_model_module": "@jupyter-widgets/controls",
            "_model_module_version": "1.5.0",
            "_model_name": "FloatSliderModel",
            "_view_count": null,
            "_view_module": "@jupyter-widgets/controls",
            "_view_module_version": "1.5.0",
            "_view_name": "FloatSliderView",
            "continuous_update": true,
            "description": "m",
            "description_tooltip": null,
            "disabled": false,
            "layout": "IPY_MODEL_1e06adf820984dd9874bdb368022d17f",
            "max": 4,
            "min": -4,
            "orientation": "horizontal",
            "readout": true,
            "readout_format": ".2f",
            "step": 0.1,
            "style": "IPY_MODEL_89b300cc110f4a0eb98b0d6800e79d7b",
            "value": 2.6
          }
        },
        "e2aaae460c5e4a72b7ce80092667fb9d": {
          "model_module": "@jupyter-widgets/controls",
          "model_name": "FloatSliderModel",
          "model_module_version": "1.5.0",
          "state": {
            "_dom_classes": [],
            "_model_module": "@jupyter-widgets/controls",
            "_model_module_version": "1.5.0",
            "_model_name": "FloatSliderModel",
            "_view_count": null,
            "_view_module": "@jupyter-widgets/controls",
            "_view_module_version": "1.5.0",
            "_view_name": "FloatSliderView",
            "continuous_update": true,
            "description": "b",
            "description_tooltip": null,
            "disabled": false,
            "layout": "IPY_MODEL_c78535cb52a14007909d924ac6319b25",
            "max": 4,
            "min": -4,
            "orientation": "horizontal",
            "readout": true,
            "readout_format": ".2f",
            "step": 0.1,
            "style": "IPY_MODEL_435239384c09416a8837aee8d2215aef",
            "value": -1.9
          }
        },
        "5481a365e36a425c916e480261eb409d": {
          "model_module": "@jupyter-widgets/output",
          "model_name": "OutputModel",
          "model_module_version": "1.0.0",
          "state": {
            "_dom_classes": [],
            "_model_module": "@jupyter-widgets/output",
            "_model_module_version": "1.0.0",
            "_model_name": "OutputModel",
            "_view_count": null,
            "_view_module": "@jupyter-widgets/output",
            "_view_module_version": "1.0.0",
            "_view_name": "OutputView",
            "layout": "IPY_MODEL_2a554aed4830464b8746f93ea064aa6e",
            "msg_id": "",
            "outputs": [
              {
                "output_type": "display_data",
                "data": {
                  "text/plain": "<Figure size 576x432 with 1 Axes>",
                  "image/png": "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\n"
                },
                "metadata": {}
              }
            ]
          }
        },
        "336550b6ad3a4a298a77574788e5cdc8": {
          "model_module": "@jupyter-widgets/base",
          "model_name": "LayoutModel",
          "model_module_version": "1.2.0",
          "state": {
            "_model_module": "@jupyter-widgets/base",
            "_model_module_version": "1.2.0",
            "_model_name": "LayoutModel",
            "_view_count": null,
            "_view_module": "@jupyter-widgets/base",
            "_view_module_version": "1.2.0",
            "_view_name": "LayoutView",
            "align_content": null,
            "align_items": null,
            "align_self": null,
            "border": null,
            "bottom": null,
            "display": null,
            "flex": null,
            "flex_flow": null,
            "grid_area": null,
            "grid_auto_columns": null,
            "grid_auto_flow": null,
            "grid_auto_rows": null,
            "grid_column": null,
            "grid_gap": null,
            "grid_row": null,
            "grid_template_areas": null,
            "grid_template_columns": null,
            "grid_template_rows": null,
            "height": null,
            "justify_content": null,
            "justify_items": null,
            "left": null,
            "margin": null,
            "max_height": null,
            "max_width": null,
            "min_height": null,
            "min_width": null,
            "object_fit": null,
            "object_position": null,
            "order": null,
            "overflow": null,
            "overflow_x": null,
            "overflow_y": null,
            "padding": null,
            "right": null,
            "top": null,
            "visibility": null,
            "width": null
          }
        },
        "1e06adf820984dd9874bdb368022d17f": {
          "model_module": "@jupyter-widgets/base",
          "model_name": "LayoutModel",
          "model_module_version": "1.2.0",
          "state": {
            "_model_module": "@jupyter-widgets/base",
            "_model_module_version": "1.2.0",
            "_model_name": "LayoutModel",
            "_view_count": null,
            "_view_module": "@jupyter-widgets/base",
            "_view_module_version": "1.2.0",
            "_view_name": "LayoutView",
            "align_content": null,
            "align_items": null,
            "align_self": null,
            "border": null,
            "bottom": null,
            "display": null,
            "flex": null,
            "flex_flow": null,
            "grid_area": null,
            "grid_auto_columns": null,
            "grid_auto_flow": null,
            "grid_auto_rows": null,
            "grid_column": null,
            "grid_gap": null,
            "grid_row": null,
            "grid_template_areas": null,
            "grid_template_columns": null,
            "grid_template_rows": null,
            "height": null,
            "justify_content": null,
            "justify_items": null,
            "left": null,
            "margin": null,
            "max_height": null,
            "max_width": null,
            "min_height": null,
            "min_width": null,
            "object_fit": null,
            "object_position": null,
            "order": null,
            "overflow": null,
            "overflow_x": null,
            "overflow_y": null,
            "padding": null,
            "right": null,
            "top": null,
            "visibility": null,
            "width": null
          }
        },
        "89b300cc110f4a0eb98b0d6800e79d7b": {
          "model_module": "@jupyter-widgets/controls",
          "model_name": "SliderStyleModel",
          "model_module_version": "1.5.0",
          "state": {
            "_model_module": "@jupyter-widgets/controls",
            "_model_module_version": "1.5.0",
            "_model_name": "SliderStyleModel",
            "_view_count": null,
            "_view_module": "@jupyter-widgets/base",
            "_view_module_version": "1.2.0",
            "_view_name": "StyleView",
            "description_width": "",
            "handle_color": null
          }
        },
        "c78535cb52a14007909d924ac6319b25": {
          "model_module": "@jupyter-widgets/base",
          "model_name": "LayoutModel",
          "model_module_version": "1.2.0",
          "state": {
            "_model_module": "@jupyter-widgets/base",
            "_model_module_version": "1.2.0",
            "_model_name": "LayoutModel",
            "_view_count": null,
            "_view_module": "@jupyter-widgets/base",
            "_view_module_version": "1.2.0",
            "_view_name": "LayoutView",
            "align_content": null,
            "align_items": null,
            "align_self": null,
            "border": null,
            "bottom": null,
            "display": null,
            "flex": null,
            "flex_flow": null,
            "grid_area": null,
            "grid_auto_columns": null,
            "grid_auto_flow": null,
            "grid_auto_rows": null,
            "grid_column": null,
            "grid_gap": null,
            "grid_row": null,
            "grid_template_areas": null,
            "grid_template_columns": null,
            "grid_template_rows": null,
            "height": null,
            "justify_content": null,
            "justify_items": null,
            "left": null,
            "margin": null,
            "max_height": null,
            "max_width": null,
            "min_height": null,
            "min_width": null,
            "object_fit": null,
            "object_position": null,
            "order": null,
            "overflow": null,
            "overflow_x": null,
            "overflow_y": null,
            "padding": null,
            "right": null,
            "top": null,
            "visibility": null,
            "width": null
          }
        },
        "435239384c09416a8837aee8d2215aef": {
          "model_module": "@jupyter-widgets/controls",
          "model_name": "SliderStyleModel",
          "model_module_version": "1.5.0",
          "state": {
            "_model_module": "@jupyter-widgets/controls",
            "_model_module_version": "1.5.0",
            "_model_name": "SliderStyleModel",
            "_view_count": null,
            "_view_module": "@jupyter-widgets/base",
            "_view_module_version": "1.2.0",
            "_view_name": "StyleView",
            "description_width": "",
            "handle_color": null
          }
        },
        "2a554aed4830464b8746f93ea064aa6e": {
          "model_module": "@jupyter-widgets/base",
          "model_name": "LayoutModel",
          "model_module_version": "1.2.0",
          "state": {
            "_model_module": "@jupyter-widgets/base",
            "_model_module_version": "1.2.0",
            "_model_name": "LayoutModel",
            "_view_count": null,
            "_view_module": "@jupyter-widgets/base",
            "_view_module_version": "1.2.0",
            "_view_name": "LayoutView",
            "align_content": null,
            "align_items": null,
            "align_self": null,
            "border": null,
            "bottom": null,
            "display": null,
            "flex": null,
            "flex_flow": null,
            "grid_area": null,
            "grid_auto_columns": null,
            "grid_auto_flow": null,
            "grid_auto_rows": null,
            "grid_column": null,
            "grid_gap": null,
            "grid_row": null,
            "grid_template_areas": null,
            "grid_template_columns": null,
            "grid_template_rows": null,
            "height": null,
            "justify_content": null,
            "justify_items": null,
            "left": null,
            "margin": null,
            "max_height": null,
            "max_width": null,
            "min_height": null,
            "min_width": null,
            "object_fit": null,
            "object_position": null,
            "order": null,
            "overflow": null,
            "overflow_x": null,
            "overflow_y": null,
            "padding": null,
            "right": null,
            "top": null,
            "visibility": null,
            "width": null
          }
        },
        "b3ca6685a82a44c7826b50d356787bc0": {
          "model_module": "@jupyter-widgets/controls",
          "model_name": "VBoxModel",
          "model_module_version": "1.5.0",
          "state": {
            "_dom_classes": [
              "widget-interact"
            ],
            "_model_module": "@jupyter-widgets/controls",
            "_model_module_version": "1.5.0",
            "_model_name": "VBoxModel",
            "_view_count": null,
            "_view_module": "@jupyter-widgets/controls",
            "_view_module_version": "1.5.0",
            "_view_name": "VBoxView",
            "box_style": "",
            "children": [
              "IPY_MODEL_7bcc823026984547b676fb6a5ab5eade",
              "IPY_MODEL_a02b0a8e81c0459da391d2710e08b78f",
              "IPY_MODEL_b748cebfe91041edb73c43ca43edf02e",
              "IPY_MODEL_4b8c89c157aa4d54b393fe448c1d24ab",
              "IPY_MODEL_87f5cefccb094c65ab496c7c344dea46"
            ],
            "layout": "IPY_MODEL_8bc4b65a529048a4a8b9627ed7cd3072"
          }
        },
        "7bcc823026984547b676fb6a5ab5eade": {
          "model_module": "@jupyter-widgets/controls",
          "model_name": "FloatSliderModel",
          "model_module_version": "1.5.0",
          "state": {
            "_dom_classes": [],
            "_model_module": "@jupyter-widgets/controls",
            "_model_module_version": "1.5.0",
            "_model_name": "FloatSliderModel",
            "_view_count": null,
            "_view_module": "@jupyter-widgets/controls",
            "_view_module_version": "1.5.0",
            "_view_name": "FloatSliderView",
            "continuous_update": true,
            "description": "m1",
            "description_tooltip": null,
            "disabled": false,
            "layout": "IPY_MODEL_80c84706fa1c413e964f77b3217bcf97",
            "max": 5,
            "min": -5,
            "orientation": "horizontal",
            "readout": true,
            "readout_format": ".2f",
            "step": 0.1,
            "style": "IPY_MODEL_f2e31f959eb44e848af904c996b1b823",
            "value": 1.5
          }
        },
        "a02b0a8e81c0459da391d2710e08b78f": {
          "model_module": "@jupyter-widgets/controls",
          "model_name": "FloatSliderModel",
          "model_module_version": "1.5.0",
          "state": {
            "_dom_classes": [],
            "_model_module": "@jupyter-widgets/controls",
            "_model_module_version": "1.5.0",
            "_model_name": "FloatSliderModel",
            "_view_count": null,
            "_view_module": "@jupyter-widgets/controls",
            "_view_module_version": "1.5.0",
            "_view_name": "FloatSliderView",
            "continuous_update": true,
            "description": "b1",
            "description_tooltip": null,
            "disabled": false,
            "layout": "IPY_MODEL_c9ef63fa0eec4fbabd375340858ba2f4",
            "max": 5,
            "min": -5,
            "orientation": "horizontal",
            "readout": true,
            "readout_format": ".2f",
            "step": 0.1,
            "style": "IPY_MODEL_0b70ef0149814fa890e534e97a734649",
            "value": 2
          }
        },
        "b748cebfe91041edb73c43ca43edf02e": {
          "model_module": "@jupyter-widgets/controls",
          "model_name": "FloatSliderModel",
          "model_module_version": "1.5.0",
          "state": {
            "_dom_classes": [],
            "_model_module": "@jupyter-widgets/controls",
            "_model_module_version": "1.5.0",
            "_model_name": "FloatSliderModel",
            "_view_count": null,
            "_view_module": "@jupyter-widgets/controls",
            "_view_module_version": "1.5.0",
            "_view_name": "FloatSliderView",
            "continuous_update": true,
            "description": "m2",
            "description_tooltip": null,
            "disabled": false,
            "layout": "IPY_MODEL_a73cabcefe0e4d41822235ea97c1cc0a",
            "max": 5,
            "min": -5,
            "orientation": "horizontal",
            "readout": true,
            "readout_format": ".2f",
            "step": 0.1,
            "style": "IPY_MODEL_65005a61389b4b8c9d5a7611c6975f5d",
            "value": 3.6
          }
        },
        "4b8c89c157aa4d54b393fe448c1d24ab": {
          "model_module": "@jupyter-widgets/controls",
          "model_name": "FloatSliderModel",
          "model_module_version": "1.5.0",
          "state": {
            "_dom_classes": [],
            "_model_module": "@jupyter-widgets/controls",
            "_model_module_version": "1.5.0",
            "_model_name": "FloatSliderModel",
            "_view_count": null,
            "_view_module": "@jupyter-widgets/controls",
            "_view_module_version": "1.5.0",
            "_view_name": "FloatSliderView",
            "continuous_update": true,
            "description": "b2",
            "description_tooltip": null,
            "disabled": false,
            "layout": "IPY_MODEL_7c33a5bf4b334c23953b57c57e8c5282",
            "max": 5,
            "min": -5,
            "orientation": "horizontal",
            "readout": true,
            "readout_format": ".2f",
            "step": 0.1,
            "style": "IPY_MODEL_343132fe61f24c40962431dac1730972",
            "value": 1.9
          }
        },
        "87f5cefccb094c65ab496c7c344dea46": {
          "model_module": "@jupyter-widgets/output",
          "model_name": "OutputModel",
          "model_module_version": "1.0.0",
          "state": {
            "_dom_classes": [],
            "_model_module": "@jupyter-widgets/output",
            "_model_module_version": "1.0.0",
            "_model_name": "OutputModel",
            "_view_count": null,
            "_view_module": "@jupyter-widgets/output",
            "_view_module_version": "1.0.0",
            "_view_name": "OutputView",
            "layout": "IPY_MODEL_de3830b86dee440cb125c145cd0b57e5",
            "msg_id": "",
            "outputs": [
              {
                "output_type": "display_data",
                "data": {
                  "text/plain": "<Figure size 576x432 with 1 Axes>",
                  "image/png": "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\n"
                },
                "metadata": {}
              }
            ]
          }
        },
        "8bc4b65a529048a4a8b9627ed7cd3072": {
          "model_module": "@jupyter-widgets/base",
          "model_name": "LayoutModel",
          "model_module_version": "1.2.0",
          "state": {
            "_model_module": "@jupyter-widgets/base",
            "_model_module_version": "1.2.0",
            "_model_name": "LayoutModel",
            "_view_count": null,
            "_view_module": "@jupyter-widgets/base",
            "_view_module_version": "1.2.0",
            "_view_name": "LayoutView",
            "align_content": null,
            "align_items": null,
            "align_self": null,
            "border": null,
            "bottom": null,
            "display": null,
            "flex": null,
            "flex_flow": null,
            "grid_area": null,
            "grid_auto_columns": null,
            "grid_auto_flow": null,
            "grid_auto_rows": null,
            "grid_column": null,
            "grid_gap": null,
            "grid_row": null,
            "grid_template_areas": null,
            "grid_template_columns": null,
            "grid_template_rows": null,
            "height": null,
            "justify_content": null,
            "justify_items": null,
            "left": null,
            "margin": null,
            "max_height": null,
            "max_width": null,
            "min_height": null,
            "min_width": null,
            "object_fit": null,
            "object_position": null,
            "order": null,
            "overflow": null,
            "overflow_x": null,
            "overflow_y": null,
            "padding": null,
            "right": null,
            "top": null,
            "visibility": null,
            "width": null
          }
        },
        "80c84706fa1c413e964f77b3217bcf97": {
          "model_module": "@jupyter-widgets/base",
          "model_name": "LayoutModel",
          "model_module_version": "1.2.0",
          "state": {
            "_model_module": "@jupyter-widgets/base",
            "_model_module_version": "1.2.0",
            "_model_name": "LayoutModel",
            "_view_count": null,
            "_view_module": "@jupyter-widgets/base",
            "_view_module_version": "1.2.0",
            "_view_name": "LayoutView",
            "align_content": null,
            "align_items": null,
            "align_self": null,
            "border": null,
            "bottom": null,
            "display": null,
            "flex": null,
            "flex_flow": null,
            "grid_area": null,
            "grid_auto_columns": null,
            "grid_auto_flow": null,
            "grid_auto_rows": null,
            "grid_column": null,
            "grid_gap": null,
            "grid_row": null,
            "grid_template_areas": null,
            "grid_template_columns": null,
            "grid_template_rows": null,
            "height": null,
            "justify_content": null,
            "justify_items": null,
            "left": null,
            "margin": null,
            "max_height": null,
            "max_width": null,
            "min_height": null,
            "min_width": null,
            "object_fit": null,
            "object_position": null,
            "order": null,
            "overflow": null,
            "overflow_x": null,
            "overflow_y": null,
            "padding": null,
            "right": null,
            "top": null,
            "visibility": null,
            "width": null
          }
        },
        "f2e31f959eb44e848af904c996b1b823": {
          "model_module": "@jupyter-widgets/controls",
          "model_name": "SliderStyleModel",
          "model_module_version": "1.5.0",
          "state": {
            "_model_module": "@jupyter-widgets/controls",
            "_model_module_version": "1.5.0",
            "_model_name": "SliderStyleModel",
            "_view_count": null,
            "_view_module": "@jupyter-widgets/base",
            "_view_module_version": "1.2.0",
            "_view_name": "StyleView",
            "description_width": "",
            "handle_color": null
          }
        },
        "c9ef63fa0eec4fbabd375340858ba2f4": {
          "model_module": "@jupyter-widgets/base",
          "model_name": "LayoutModel",
          "model_module_version": "1.2.0",
          "state": {
            "_model_module": "@jupyter-widgets/base",
            "_model_module_version": "1.2.0",
            "_model_name": "LayoutModel",
            "_view_count": null,
            "_view_module": "@jupyter-widgets/base",
            "_view_module_version": "1.2.0",
            "_view_name": "LayoutView",
            "align_content": null,
            "align_items": null,
            "align_self": null,
            "border": null,
            "bottom": null,
            "display": null,
            "flex": null,
            "flex_flow": null,
            "grid_area": null,
            "grid_auto_columns": null,
            "grid_auto_flow": null,
            "grid_auto_rows": null,
            "grid_column": null,
            "grid_gap": null,
            "grid_row": null,
            "grid_template_areas": null,
            "grid_template_columns": null,
            "grid_template_rows": null,
            "height": null,
            "justify_content": null,
            "justify_items": null,
            "left": null,
            "margin": null,
            "max_height": null,
            "max_width": null,
            "min_height": null,
            "min_width": null,
            "object_fit": null,
            "object_position": null,
            "order": null,
            "overflow": null,
            "overflow_x": null,
            "overflow_y": null,
            "padding": null,
            "right": null,
            "top": null,
            "visibility": null,
            "width": null
          }
        },
        "0b70ef0149814fa890e534e97a734649": {
          "model_module": "@jupyter-widgets/controls",
          "model_name": "SliderStyleModel",
          "model_module_version": "1.5.0",
          "state": {
            "_model_module": "@jupyter-widgets/controls",
            "_model_module_version": "1.5.0",
            "_model_name": "SliderStyleModel",
            "_view_count": null,
            "_view_module": "@jupyter-widgets/base",
            "_view_module_version": "1.2.0",
            "_view_name": "StyleView",
            "description_width": "",
            "handle_color": null
          }
        },
        "a73cabcefe0e4d41822235ea97c1cc0a": {
          "model_module": "@jupyter-widgets/base",
          "model_name": "LayoutModel",
          "model_module_version": "1.2.0",
          "state": {
            "_model_module": "@jupyter-widgets/base",
            "_model_module_version": "1.2.0",
            "_model_name": "LayoutModel",
            "_view_count": null,
            "_view_module": "@jupyter-widgets/base",
            "_view_module_version": "1.2.0",
            "_view_name": "LayoutView",
            "align_content": null,
            "align_items": null,
            "align_self": null,
            "border": null,
            "bottom": null,
            "display": null,
            "flex": null,
            "flex_flow": null,
            "grid_area": null,
            "grid_auto_columns": null,
            "grid_auto_flow": null,
            "grid_auto_rows": null,
            "grid_column": null,
            "grid_gap": null,
            "grid_row": null,
            "grid_template_areas": null,
            "grid_template_columns": null,
            "grid_template_rows": null,
            "height": null,
            "justify_content": null,
            "justify_items": null,
            "left": null,
            "margin": null,
            "max_height": null,
            "max_width": null,
            "min_height": null,
            "min_width": null,
            "object_fit": null,
            "object_position": null,
            "order": null,
            "overflow": null,
            "overflow_x": null,
            "overflow_y": null,
            "padding": null,
            "right": null,
            "top": null,
            "visibility": null,
            "width": null
          }
        },
        "65005a61389b4b8c9d5a7611c6975f5d": {
          "model_module": "@jupyter-widgets/controls",
          "model_name": "SliderStyleModel",
          "model_module_version": "1.5.0",
          "state": {
            "_model_module": "@jupyter-widgets/controls",
            "_model_module_version": "1.5.0",
            "_model_name": "SliderStyleModel",
            "_view_count": null,
            "_view_module": "@jupyter-widgets/base",
            "_view_module_version": "1.2.0",
            "_view_name": "StyleView",
            "description_width": "",
            "handle_color": null
          }
        },
        "7c33a5bf4b334c23953b57c57e8c5282": {
          "model_module": "@jupyter-widgets/base",
          "model_name": "LayoutModel",
          "model_module_version": "1.2.0",
          "state": {
            "_model_module": "@jupyter-widgets/base",
            "_model_module_version": "1.2.0",
            "_model_name": "LayoutModel",
            "_view_count": null,
            "_view_module": "@jupyter-widgets/base",
            "_view_module_version": "1.2.0",
            "_view_name": "LayoutView",
            "align_content": null,
            "align_items": null,
            "align_self": null,
            "border": null,
            "bottom": null,
            "display": null,
            "flex": null,
            "flex_flow": null,
            "grid_area": null,
            "grid_auto_columns": null,
            "grid_auto_flow": null,
            "grid_auto_rows": null,
            "grid_column": null,
            "grid_gap": null,
            "grid_row": null,
            "grid_template_areas": null,
            "grid_template_columns": null,
            "grid_template_rows": null,
            "height": null,
            "justify_content": null,
            "justify_items": null,
            "left": null,
            "margin": null,
            "max_height": null,
            "max_width": null,
            "min_height": null,
            "min_width": null,
            "object_fit": null,
            "object_position": null,
            "order": null,
            "overflow": null,
            "overflow_x": null,
            "overflow_y": null,
            "padding": null,
            "right": null,
            "top": null,
            "visibility": null,
            "width": null
          }
        },
        "343132fe61f24c40962431dac1730972": {
          "model_module": "@jupyter-widgets/controls",
          "model_name": "SliderStyleModel",
          "model_module_version": "1.5.0",
          "state": {
            "_model_module": "@jupyter-widgets/controls",
            "_model_module_version": "1.5.0",
            "_model_name": "SliderStyleModel",
            "_view_count": null,
            "_view_module": "@jupyter-widgets/base",
            "_view_module_version": "1.2.0",
            "_view_name": "StyleView",
            "description_width": "",
            "handle_color": null
          }
        },
        "de3830b86dee440cb125c145cd0b57e5": {
          "model_module": "@jupyter-widgets/base",
          "model_name": "LayoutModel",
          "model_module_version": "1.2.0",
          "state": {
            "_model_module": "@jupyter-widgets/base",
            "_model_module_version": "1.2.0",
            "_model_name": "LayoutModel",
            "_view_count": null,
            "_view_module": "@jupyter-widgets/base",
            "_view_module_version": "1.2.0",
            "_view_name": "LayoutView",
            "align_content": null,
            "align_items": null,
            "align_self": null,
            "border": null,
            "bottom": null,
            "display": null,
            "flex": null,
            "flex_flow": null,
            "grid_area": null,
            "grid_auto_columns": null,
            "grid_auto_flow": null,
            "grid_auto_rows": null,
            "grid_column": null,
            "grid_gap": null,
            "grid_row": null,
            "grid_template_areas": null,
            "grid_template_columns": null,
            "grid_template_rows": null,
            "height": null,
            "justify_content": null,
            "justify_items": null,
            "left": null,
            "margin": null,
            "max_height": null,
            "max_width": null,
            "min_height": null,
            "min_width": null,
            "object_fit": null,
            "object_position": null,
            "order": null,
            "overflow": null,
            "overflow_x": null,
            "overflow_y": null,
            "padding": null,
            "right": null,
            "top": null,
            "visibility": null,
            "width": null
          }
        },
        "e22032683de64e4fa5facb5dd68adce6": {
          "model_module": "@jupyter-widgets/controls",
          "model_name": "VBoxModel",
          "model_module_version": "1.5.0",
          "state": {
            "_dom_classes": [
              "widget-interact"
            ],
            "_model_module": "@jupyter-widgets/controls",
            "_model_module_version": "1.5.0",
            "_model_name": "VBoxModel",
            "_view_count": null,
            "_view_module": "@jupyter-widgets/controls",
            "_view_module_version": "1.5.0",
            "_view_name": "VBoxView",
            "box_style": "",
            "children": [
              "IPY_MODEL_c3fe1202f4014efeb4ef9b7dde3d71ca",
              "IPY_MODEL_1ee4ecab4d004a5a8e5416e4d9b99bb3",
              "IPY_MODEL_120816328ab748f1bfc49c3260e119d0",
              "IPY_MODEL_3d31864b2a2e4f449283b9e908cdeb4b",
              "IPY_MODEL_156476ad397f4594beeaf9e00ebda772",
              "IPY_MODEL_c84f78851b6146b5a24d7dd086748236",
              "IPY_MODEL_5d38e727a14348a6b01c3b4c5ccd41f3"
            ],
            "layout": "IPY_MODEL_c2b3ba5084b7496ba764c10e556dd54e"
          }
        },
        "c3fe1202f4014efeb4ef9b7dde3d71ca": {
          "model_module": "@jupyter-widgets/controls",
          "model_name": "FloatSliderModel",
          "model_module_version": "1.5.0",
          "state": {
            "_dom_classes": [],
            "_model_module": "@jupyter-widgets/controls",
            "_model_module_version": "1.5.0",
            "_model_name": "FloatSliderModel",
            "_view_count": null,
            "_view_module": "@jupyter-widgets/controls",
            "_view_module_version": "1.5.0",
            "_view_name": "FloatSliderView",
            "continuous_update": true,
            "description": "m1",
            "description_tooltip": null,
            "disabled": false,
            "layout": "IPY_MODEL_8d0f0a6c8e584eb995d07241741d32a3",
            "max": 4,
            "min": -4,
            "orientation": "horizontal",
            "readout": true,
            "readout_format": ".2f",
            "step": 0.1,
            "style": "IPY_MODEL_68b82f2fcf744145a3cc7933eba3beba",
            "value": 1
          }
        },
        "1ee4ecab4d004a5a8e5416e4d9b99bb3": {
          "model_module": "@jupyter-widgets/controls",
          "model_name": "FloatSliderModel",
          "model_module_version": "1.5.0",
          "state": {
            "_dom_classes": [],
            "_model_module": "@jupyter-widgets/controls",
            "_model_module_version": "1.5.0",
            "_model_name": "FloatSliderModel",
            "_view_count": null,
            "_view_module": "@jupyter-widgets/controls",
            "_view_module_version": "1.5.0",
            "_view_name": "FloatSliderView",
            "continuous_update": true,
            "description": "b1",
            "description_tooltip": null,
            "disabled": false,
            "layout": "IPY_MODEL_5407a4ff3697418084a7596452a1882a",
            "max": 4,
            "min": -4,
            "orientation": "horizontal",
            "readout": true,
            "readout_format": ".2f",
            "step": 0.1,
            "style": "IPY_MODEL_7fc4f7d473ce49b29c1426b8a031c652",
            "value": -1.4
          }
        },
        "120816328ab748f1bfc49c3260e119d0": {
          "model_module": "@jupyter-widgets/controls",
          "model_name": "FloatSliderModel",
          "model_module_version": "1.5.0",
          "state": {
            "_dom_classes": [],
            "_model_module": "@jupyter-widgets/controls",
            "_model_module_version": "1.5.0",
            "_model_name": "FloatSliderModel",
            "_view_count": null,
            "_view_module": "@jupyter-widgets/controls",
            "_view_module_version": "1.5.0",
            "_view_name": "FloatSliderView",
            "continuous_update": true,
            "description": "m2",
            "description_tooltip": null,
            "disabled": false,
            "layout": "IPY_MODEL_888ff77137884f7a97c0a7a74d004c02",
            "max": 4,
            "min": -4,
            "orientation": "horizontal",
            "readout": true,
            "readout_format": ".2f",
            "step": 0.1,
            "style": "IPY_MODEL_1b8a4de1eaf44429acd496a00e3ee0a3",
            "value": 1.4
          }
        },
        "3d31864b2a2e4f449283b9e908cdeb4b": {
          "model_module": "@jupyter-widgets/controls",
          "model_name": "FloatSliderModel",
          "model_module_version": "1.5.0",
          "state": {
            "_dom_classes": [],
            "_model_module": "@jupyter-widgets/controls",
            "_model_module_version": "1.5.0",
            "_model_name": "FloatSliderModel",
            "_view_count": null,
            "_view_module": "@jupyter-widgets/controls",
            "_view_module_version": "1.5.0",
            "_view_name": "FloatSliderView",
            "continuous_update": true,
            "description": "b2",
            "description_tooltip": null,
            "disabled": false,
            "layout": "IPY_MODEL_0ac09947ace441e2918b46611e7fbaef",
            "max": 4,
            "min": -4,
            "orientation": "horizontal",
            "readout": true,
            "readout_format": ".2f",
            "step": 0.1,
            "style": "IPY_MODEL_b2fbb8d6becc433db95a42d5a75b20f1",
            "value": 0.3
          }
        },
        "156476ad397f4594beeaf9e00ebda772": {
          "model_module": "@jupyter-widgets/controls",
          "model_name": "FloatSliderModel",
          "model_module_version": "1.5.0",
          "state": {
            "_dom_classes": [],
            "_model_module": "@jupyter-widgets/controls",
            "_model_module_version": "1.5.0",
            "_model_name": "FloatSliderModel",
            "_view_count": null,
            "_view_module": "@jupyter-widgets/controls",
            "_view_module_version": "1.5.0",
            "_view_name": "FloatSliderView",
            "continuous_update": true,
            "description": "m3",
            "description_tooltip": null,
            "disabled": false,
            "layout": "IPY_MODEL_4332d6827034406485db1cf6681a1cbc",
            "max": 4,
            "min": -4,
            "orientation": "horizontal",
            "readout": true,
            "readout_format": ".2f",
            "step": 0.1,
            "style": "IPY_MODEL_854039c518e84c6c9254f8cf3b163fd7",
            "value": -1.7
          }
        },
        "c84f78851b6146b5a24d7dd086748236": {
          "model_module": "@jupyter-widgets/controls",
          "model_name": "FloatSliderModel",
          "model_module_version": "1.5.0",
          "state": {
            "_dom_classes": [],
            "_model_module": "@jupyter-widgets/controls",
            "_model_module_version": "1.5.0",
            "_model_name": "FloatSliderModel",
            "_view_count": null,
            "_view_module": "@jupyter-widgets/controls",
            "_view_module_version": "1.5.0",
            "_view_name": "FloatSliderView",
            "continuous_update": true,
            "description": "b3",
            "description_tooltip": null,
            "disabled": false,
            "layout": "IPY_MODEL_80c7e0db31b644e6909bd7837fbfc8ca",
            "max": 4,
            "min": -4,
            "orientation": "horizontal",
            "readout": true,
            "readout_format": ".2f",
            "step": 0.1,
            "style": "IPY_MODEL_a058844862fe4444ab484adc45c9fa50",
            "value": -0.8
          }
        },
        "5d38e727a14348a6b01c3b4c5ccd41f3": {
          "model_module": "@jupyter-widgets/output",
          "model_name": "OutputModel",
          "model_module_version": "1.0.0",
          "state": {
            "_dom_classes": [],
            "_model_module": "@jupyter-widgets/output",
            "_model_module_version": "1.0.0",
            "_model_name": "OutputModel",
            "_view_count": null,
            "_view_module": "@jupyter-widgets/output",
            "_view_module_version": "1.0.0",
            "_view_name": "OutputView",
            "layout": "IPY_MODEL_053d3010c957419586508e1840b7de3e",
            "msg_id": "",
            "outputs": [
              {
                "output_type": "display_data",
                "data": {
                  "text/plain": "<Figure size 576x432 with 1 Axes>",
                  "image/png": "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\n"
                },
                "metadata": {}
              }
            ]
          }
        },
        "c2b3ba5084b7496ba764c10e556dd54e": {
          "model_module": "@jupyter-widgets/base",
          "model_name": "LayoutModel",
          "model_module_version": "1.2.0",
          "state": {
            "_model_module": "@jupyter-widgets/base",
            "_model_module_version": "1.2.0",
            "_model_name": "LayoutModel",
            "_view_count": null,
            "_view_module": "@jupyter-widgets/base",
            "_view_module_version": "1.2.0",
            "_view_name": "LayoutView",
            "align_content": null,
            "align_items": null,
            "align_self": null,
            "border": null,
            "bottom": null,
            "display": null,
            "flex": null,
            "flex_flow": null,
            "grid_area": null,
            "grid_auto_columns": null,
            "grid_auto_flow": null,
            "grid_auto_rows": null,
            "grid_column": null,
            "grid_gap": null,
            "grid_row": null,
            "grid_template_areas": null,
            "grid_template_columns": null,
            "grid_template_rows": null,
            "height": null,
            "justify_content": null,
            "justify_items": null,
            "left": null,
            "margin": null,
            "max_height": null,
            "max_width": null,
            "min_height": null,
            "min_width": null,
            "object_fit": null,
            "object_position": null,
            "order": null,
            "overflow": null,
            "overflow_x": null,
            "overflow_y": null,
            "padding": null,
            "right": null,
            "top": null,
            "visibility": null,
            "width": null
          }
        },
        "8d0f0a6c8e584eb995d07241741d32a3": {
          "model_module": "@jupyter-widgets/base",
          "model_name": "LayoutModel",
          "model_module_version": "1.2.0",
          "state": {
            "_model_module": "@jupyter-widgets/base",
            "_model_module_version": "1.2.0",
            "_model_name": "LayoutModel",
            "_view_count": null,
            "_view_module": "@jupyter-widgets/base",
            "_view_module_version": "1.2.0",
            "_view_name": "LayoutView",
            "align_content": null,
            "align_items": null,
            "align_self": null,
            "border": null,
            "bottom": null,
            "display": null,
            "flex": null,
            "flex_flow": null,
            "grid_area": null,
            "grid_auto_columns": null,
            "grid_auto_flow": null,
            "grid_auto_rows": null,
            "grid_column": null,
            "grid_gap": null,
            "grid_row": null,
            "grid_template_areas": null,
            "grid_template_columns": null,
            "grid_template_rows": null,
            "height": null,
            "justify_content": null,
            "justify_items": null,
            "left": null,
            "margin": null,
            "max_height": null,
            "max_width": null,
            "min_height": null,
            "min_width": null,
            "object_fit": null,
            "object_position": null,
            "order": null,
            "overflow": null,
            "overflow_x": null,
            "overflow_y": null,
            "padding": null,
            "right": null,
            "top": null,
            "visibility": null,
            "width": null
          }
        },
        "68b82f2fcf744145a3cc7933eba3beba": {
          "model_module": "@jupyter-widgets/controls",
          "model_name": "SliderStyleModel",
          "model_module_version": "1.5.0",
          "state": {
            "_model_module": "@jupyter-widgets/controls",
            "_model_module_version": "1.5.0",
            "_model_name": "SliderStyleModel",
            "_view_count": null,
            "_view_module": "@jupyter-widgets/base",
            "_view_module_version": "1.2.0",
            "_view_name": "StyleView",
            "description_width": "",
            "handle_color": null
          }
        },
        "5407a4ff3697418084a7596452a1882a": {
          "model_module": "@jupyter-widgets/base",
          "model_name": "LayoutModel",
          "model_module_version": "1.2.0",
          "state": {
            "_model_module": "@jupyter-widgets/base",
            "_model_module_version": "1.2.0",
            "_model_name": "LayoutModel",
            "_view_count": null,
            "_view_module": "@jupyter-widgets/base",
            "_view_module_version": "1.2.0",
            "_view_name": "LayoutView",
            "align_content": null,
            "align_items": null,
            "align_self": null,
            "border": null,
            "bottom": null,
            "display": null,
            "flex": null,
            "flex_flow": null,
            "grid_area": null,
            "grid_auto_columns": null,
            "grid_auto_flow": null,
            "grid_auto_rows": null,
            "grid_column": null,
            "grid_gap": null,
            "grid_row": null,
            "grid_template_areas": null,
            "grid_template_columns": null,
            "grid_template_rows": null,
            "height": null,
            "justify_content": null,
            "justify_items": null,
            "left": null,
            "margin": null,
            "max_height": null,
            "max_width": null,
            "min_height": null,
            "min_width": null,
            "object_fit": null,
            "object_position": null,
            "order": null,
            "overflow": null,
            "overflow_x": null,
            "overflow_y": null,
            "padding": null,
            "right": null,
            "top": null,
            "visibility": null,
            "width": null
          }
        },
        "7fc4f7d473ce49b29c1426b8a031c652": {
          "model_module": "@jupyter-widgets/controls",
          "model_name": "SliderStyleModel",
          "model_module_version": "1.5.0",
          "state": {
            "_model_module": "@jupyter-widgets/controls",
            "_model_module_version": "1.5.0",
            "_model_name": "SliderStyleModel",
            "_view_count": null,
            "_view_module": "@jupyter-widgets/base",
            "_view_module_version": "1.2.0",
            "_view_name": "StyleView",
            "description_width": "",
            "handle_color": null
          }
        },
        "888ff77137884f7a97c0a7a74d004c02": {
          "model_module": "@jupyter-widgets/base",
          "model_name": "LayoutModel",
          "model_module_version": "1.2.0",
          "state": {
            "_model_module": "@jupyter-widgets/base",
            "_model_module_version": "1.2.0",
            "_model_name": "LayoutModel",
            "_view_count": null,
            "_view_module": "@jupyter-widgets/base",
            "_view_module_version": "1.2.0",
            "_view_name": "LayoutView",
            "align_content": null,
            "align_items": null,
            "align_self": null,
            "border": null,
            "bottom": null,
            "display": null,
            "flex": null,
            "flex_flow": null,
            "grid_area": null,
            "grid_auto_columns": null,
            "grid_auto_flow": null,
            "grid_auto_rows": null,
            "grid_column": null,
            "grid_gap": null,
            "grid_row": null,
            "grid_template_areas": null,
            "grid_template_columns": null,
            "grid_template_rows": null,
            "height": null,
            "justify_content": null,
            "justify_items": null,
            "left": null,
            "margin": null,
            "max_height": null,
            "max_width": null,
            "min_height": null,
            "min_width": null,
            "object_fit": null,
            "object_position": null,
            "order": null,
            "overflow": null,
            "overflow_x": null,
            "overflow_y": null,
            "padding": null,
            "right": null,
            "top": null,
            "visibility": null,
            "width": null
          }
        },
        "1b8a4de1eaf44429acd496a00e3ee0a3": {
          "model_module": "@jupyter-widgets/controls",
          "model_name": "SliderStyleModel",
          "model_module_version": "1.5.0",
          "state": {
            "_model_module": "@jupyter-widgets/controls",
            "_model_module_version": "1.5.0",
            "_model_name": "SliderStyleModel",
            "_view_count": null,
            "_view_module": "@jupyter-widgets/base",
            "_view_module_version": "1.2.0",
            "_view_name": "StyleView",
            "description_width": "",
            "handle_color": null
          }
        },
        "0ac09947ace441e2918b46611e7fbaef": {
          "model_module": "@jupyter-widgets/base",
          "model_name": "LayoutModel",
          "model_module_version": "1.2.0",
          "state": {
            "_model_module": "@jupyter-widgets/base",
            "_model_module_version": "1.2.0",
            "_model_name": "LayoutModel",
            "_view_count": null,
            "_view_module": "@jupyter-widgets/base",
            "_view_module_version": "1.2.0",
            "_view_name": "LayoutView",
            "align_content": null,
            "align_items": null,
            "align_self": null,
            "border": null,
            "bottom": null,
            "display": null,
            "flex": null,
            "flex_flow": null,
            "grid_area": null,
            "grid_auto_columns": null,
            "grid_auto_flow": null,
            "grid_auto_rows": null,
            "grid_column": null,
            "grid_gap": null,
            "grid_row": null,
            "grid_template_areas": null,
            "grid_template_columns": null,
            "grid_template_rows": null,
            "height": null,
            "justify_content": null,
            "justify_items": null,
            "left": null,
            "margin": null,
            "max_height": null,
            "max_width": null,
            "min_height": null,
            "min_width": null,
            "object_fit": null,
            "object_position": null,
            "order": null,
            "overflow": null,
            "overflow_x": null,
            "overflow_y": null,
            "padding": null,
            "right": null,
            "top": null,
            "visibility": null,
            "width": null
          }
        },
        "b2fbb8d6becc433db95a42d5a75b20f1": {
          "model_module": "@jupyter-widgets/controls",
          "model_name": "SliderStyleModel",
          "model_module_version": "1.5.0",
          "state": {
            "_model_module": "@jupyter-widgets/controls",
            "_model_module_version": "1.5.0",
            "_model_name": "SliderStyleModel",
            "_view_count": null,
            "_view_module": "@jupyter-widgets/base",
            "_view_module_version": "1.2.0",
            "_view_name": "StyleView",
            "description_width": "",
            "handle_color": null
          }
        },
        "4332d6827034406485db1cf6681a1cbc": {
          "model_module": "@jupyter-widgets/base",
          "model_name": "LayoutModel",
          "model_module_version": "1.2.0",
          "state": {
            "_model_module": "@jupyter-widgets/base",
            "_model_module_version": "1.2.0",
            "_model_name": "LayoutModel",
            "_view_count": null,
            "_view_module": "@jupyter-widgets/base",
            "_view_module_version": "1.2.0",
            "_view_name": "LayoutView",
            "align_content": null,
            "align_items": null,
            "align_self": null,
            "border": null,
            "bottom": null,
            "display": null,
            "flex": null,
            "flex_flow": null,
            "grid_area": null,
            "grid_auto_columns": null,
            "grid_auto_flow": null,
            "grid_auto_rows": null,
            "grid_column": null,
            "grid_gap": null,
            "grid_row": null,
            "grid_template_areas": null,
            "grid_template_columns": null,
            "grid_template_rows": null,
            "height": null,
            "justify_content": null,
            "justify_items": null,
            "left": null,
            "margin": null,
            "max_height": null,
            "max_width": null,
            "min_height": null,
            "min_width": null,
            "object_fit": null,
            "object_position": null,
            "order": null,
            "overflow": null,
            "overflow_x": null,
            "overflow_y": null,
            "padding": null,
            "right": null,
            "top": null,
            "visibility": null,
            "width": null
          }
        },
        "854039c518e84c6c9254f8cf3b163fd7": {
          "model_module": "@jupyter-widgets/controls",
          "model_name": "SliderStyleModel",
          "model_module_version": "1.5.0",
          "state": {
            "_model_module": "@jupyter-widgets/controls",
            "_model_module_version": "1.5.0",
            "_model_name": "SliderStyleModel",
            "_view_count": null,
            "_view_module": "@jupyter-widgets/base",
            "_view_module_version": "1.2.0",
            "_view_name": "StyleView",
            "description_width": "",
            "handle_color": null
          }
        },
        "80c7e0db31b644e6909bd7837fbfc8ca": {
          "model_module": "@jupyter-widgets/base",
          "model_name": "LayoutModel",
          "model_module_version": "1.2.0",
          "state": {
            "_model_module": "@jupyter-widgets/base",
            "_model_module_version": "1.2.0",
            "_model_name": "LayoutModel",
            "_view_count": null,
            "_view_module": "@jupyter-widgets/base",
            "_view_module_version": "1.2.0",
            "_view_name": "LayoutView",
            "align_content": null,
            "align_items": null,
            "align_self": null,
            "border": null,
            "bottom": null,
            "display": null,
            "flex": null,
            "flex_flow": null,
            "grid_area": null,
            "grid_auto_columns": null,
            "grid_auto_flow": null,
            "grid_auto_rows": null,
            "grid_column": null,
            "grid_gap": null,
            "grid_row": null,
            "grid_template_areas": null,
            "grid_template_columns": null,
            "grid_template_rows": null,
            "height": null,
            "justify_content": null,
            "justify_items": null,
            "left": null,
            "margin": null,
            "max_height": null,
            "max_width": null,
            "min_height": null,
            "min_width": null,
            "object_fit": null,
            "object_position": null,
            "order": null,
            "overflow": null,
            "overflow_x": null,
            "overflow_y": null,
            "padding": null,
            "right": null,
            "top": null,
            "visibility": null,
            "width": null
          }
        },
        "a058844862fe4444ab484adc45c9fa50": {
          "model_module": "@jupyter-widgets/controls",
          "model_name": "SliderStyleModel",
          "model_module_version": "1.5.0",
          "state": {
            "_model_module": "@jupyter-widgets/controls",
            "_model_module_version": "1.5.0",
            "_model_name": "SliderStyleModel",
            "_view_count": null,
            "_view_module": "@jupyter-widgets/base",
            "_view_module_version": "1.2.0",
            "_view_name": "StyleView",
            "description_width": "",
            "handle_color": null
          }
        },
        "053d3010c957419586508e1840b7de3e": {
          "model_module": "@jupyter-widgets/base",
          "model_name": "LayoutModel",
          "model_module_version": "1.2.0",
          "state": {
            "_model_module": "@jupyter-widgets/base",
            "_model_module_version": "1.2.0",
            "_model_name": "LayoutModel",
            "_view_count": null,
            "_view_module": "@jupyter-widgets/base",
            "_view_module_version": "1.2.0",
            "_view_name": "LayoutView",
            "align_content": null,
            "align_items": null,
            "align_self": null,
            "border": null,
            "bottom": null,
            "display": null,
            "flex": null,
            "flex_flow": null,
            "grid_area": null,
            "grid_auto_columns": null,
            "grid_auto_flow": null,
            "grid_auto_rows": null,
            "grid_column": null,
            "grid_gap": null,
            "grid_row": null,
            "grid_template_areas": null,
            "grid_template_columns": null,
            "grid_template_rows": null,
            "height": null,
            "justify_content": null,
            "justify_items": null,
            "left": null,
            "margin": null,
            "max_height": null,
            "max_width": null,
            "min_height": null,
            "min_width": null,
            "object_fit": null,
            "object_position": null,
            "order": null,
            "overflow": null,
            "overflow_x": null,
            "overflow_y": null,
            "padding": null,
            "right": null,
            "top": null,
            "visibility": null,
            "width": null
          }
        }
      }
    }
  },
  "nbformat": 4,
  "nbformat_minor": 0
}